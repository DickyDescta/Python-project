{
  "nbformat": 4,
  "nbformat_minor": 0,
  "metadata": {
    "colab": {
      "provenance": [],
      "authorship_tag": "ABX9TyM6n6FYzbe3fhas5O2Q4Lsy",
      "include_colab_link": true
    },
    "kernelspec": {
      "name": "python3",
      "display_name": "Python 3"
    },
    "language_info": {
      "name": "python"
    }
  },
  "cells": [
    {
      "cell_type": "markdown",
      "metadata": {
        "id": "view-in-github",
        "colab_type": "text"
      },
      "source": [
        "<a href=\"https://colab.research.google.com/github/DickyDescta/Python-project/blob/main/Dicky_Descta_Pertemuan02.ipynb\" target=\"_parent\"><img src=\"https://colab.research.google.com/assets/colab-badge.svg\" alt=\"Open In Colab\"/></a>"
      ]
    },
    {
      "cell_type": "code",
      "execution_count": null,
      "metadata": {
        "colab": {
          "base_uri": "https://localhost:8080/"
        },
        "id": "PcbDwd7I9RTA",
        "outputId": "3fb46235-968a-4c79-8e84-060cfc9dbada"
      },
      "outputs": [
        {
          "output_type": "stream",
          "name": "stdout",
          "text": [
            "(1, 2, 3, 4, 5, 6)\n"
          ]
        }
      ],
      "source": [
        "a = (1,2,3)\n",
        "b = (4,5,6)\n",
        "print (a + b)"
      ]
    },
    {
      "cell_type": "code",
      "source": [
        "#created by : Dicky Descta\n",
        "#created date : 9/12/2024\n",
        "a = (1, 2, 3)\n",
        "b = (4, 5, 6)\n",
        "\n",
        "combined = a + b\n",
        "\n",
        "result = sum(combined)\n",
        "\n",
        "print(result)\n"
      ],
      "metadata": {
        "colab": {
          "base_uri": "https://localhost:8080/"
        },
        "id": "lmqQIOZVAkkU",
        "outputId": "d522c141-5fb4-42d5-d4aa-c49f8c0de70a"
      },
      "execution_count": null,
      "outputs": [
        {
          "output_type": "stream",
          "name": "stdout",
          "text": [
            "21\n"
          ]
        }
      ]
    },
    {
      "cell_type": "code",
      "source": [
        "nilai_mahasiswa = np.array([85,55,40,90])\n",
        "print(nilai_mahasiswa[3])"
      ],
      "metadata": {
        "colab": {
          "base_uri": "https://localhost:8080/"
        },
        "id": "StCZWjz5FOAJ",
        "outputId": "6d4a9b20-93e8-4357-dbee-15d1b30cfec0"
      },
      "execution_count": null,
      "outputs": [
        {
          "output_type": "stream",
          "name": "stdout",
          "text": [
            "90\n"
          ]
        }
      ]
    },
    {
      "cell_type": "code",
      "source": [
        "#created by : Dicky Descta\n",
        "#created date : 9/12/2024\n",
        "nilai_siswa = (85, 55, 40, 90)\n",
        "rata_rata = sum(nilai_siswa) / len(nilai_siswa)\n",
        "nilai_maksimum = max(nilai_siswa)\n",
        "nilai_minimum = min(nilai_siswa)\n",
        "print(\"Array nilai siswa:\", nilai_siswa)\n",
        "print(\"Rata-rata nilai:\", rata_rata)\n",
        "print(\"Nilai maksimum:\", nilai_maksimum)\n",
        "print(\"Nilai minimum:\", nilai_minimum)\n",
        "print(\"nilai siswa ke 3 : \", nilai_siswa[2])\n"
      ],
      "metadata": {
        "colab": {
          "base_uri": "https://localhost:8080/"
        },
        "id": "UAYxnqXmGA4I",
        "outputId": "962375f3-f0b1-40ee-a803-f837c26317fa"
      },
      "execution_count": null,
      "outputs": [
        {
          "output_type": "stream",
          "name": "stdout",
          "text": [
            "Array nilai siswa: (85, 55, 40, 90)\n",
            "Rata-rata nilai: 67.5\n",
            "Nilai maksimum: 90\n",
            "Nilai minimum: 40\n",
            "nilai siswa ke 3 :  40\n"
          ]
        }
      ]
    },
    {
      "cell_type": "code",
      "source": [
        "print(\"HELLO, WORD\")\n",
        "print(\"Nama saya Dicky Descta\")\n",
        "print(\"NIM saya 2023071033\")"
      ],
      "metadata": {
        "colab": {
          "base_uri": "https://localhost:8080/"
        },
        "id": "1N5o7H0zFtrT",
        "outputId": "bb4751df-e2c4-49e4-ef05-0eb413570afa"
      },
      "execution_count": null,
      "outputs": [
        {
          "output_type": "stream",
          "name": "stdout",
          "text": [
            "HELLO, WORD\n",
            "Nama saya Dicky Descta\n",
            "NIM saya 2023071033\n"
          ]
        }
      ]
    },
    {
      "cell_type": "code",
      "source": [
        "#created by : Dicky Descta\n",
        "#created date : 9/12/2024\n",
        "nama = input(\"Masukkan nama Anda: \")\n",
        "NIM = input(\"Masukkan NIM Anda: \")\n",
        "print(\"HELLO, WORD\")\n",
        "print(\"Nama saya\",nama)\n",
        "print(\"NIM saya\",NIM)\n",
        "\n"
      ],
      "metadata": {
        "colab": {
          "base_uri": "https://localhost:8080/"
        },
        "id": "OsoQwtb-GrMV",
        "outputId": "af6f7c33-f74f-426e-fce8-1b136c8cf753"
      },
      "execution_count": null,
      "outputs": [
        {
          "output_type": "stream",
          "name": "stdout",
          "text": [
            "Masukkan nama Anda: d\n",
            "Masukkan NIM Anda: 4\n",
            "HELLO, WORD\n",
            "Nama saya d\n",
            "NIM saya 4\n"
          ]
        }
      ]
    },
    {
      "cell_type": "code",
      "source": [
        "def getsecond(myList):\n",
        "    if len(myList):\n",
        "        return myList[1]\n",
        "    else:\n",
        "        return \"Daftar tidak memiliki cukup elemen\"\n",
        "\n",
        "result = getsecond([1, 2, 3])\n",
        "print(result)\n",
        "\n"
      ],
      "metadata": {
        "colab": {
          "base_uri": "https://localhost:8080/"
        },
        "id": "FJrIxSuRJnnx",
        "outputId": "682d57a0-24ca-4140-e7f1-ca618046cc21"
      },
      "execution_count": null,
      "outputs": [
        {
          "output_type": "stream",
          "name": "stdout",
          "text": [
            "2\n"
          ]
        }
      ]
    },
    {
      "cell_type": "code",
      "source": [
        "#created by : Dicky Descta\n",
        "#created date : 9/12/2024\n",
        "def getlast(myList):\n",
        "    if len(myList) >0 :\n",
        "        return myList[-1]\n",
        "    else:\n",
        "        return \"Daftar tidak memiliki cukup elemen\"\n",
        "\n",
        "result = getlast([1, 2, 3,4,5,6])\n",
        "print(result)"
      ],
      "metadata": {
        "colab": {
          "base_uri": "https://localhost:8080/"
        },
        "id": "p5oYmmupKhRk",
        "outputId": "d7a1008a-b902-4528-bdad-051f70bd8668"
      },
      "execution_count": null,
      "outputs": [
        {
          "output_type": "stream",
          "name": "stdout",
          "text": [
            "6\n"
          ]
        }
      ]
    },
    {
      "cell_type": "code",
      "source": [
        "#created by : Dicky Descta\n",
        "#created date : 9/12/2024\n",
        "def bagi_dan_kali(angka1, angka2):\n",
        "    if angka2 == 0:\n",
        "        return \"Pembagian dengan nol tidak diperbolehkan\"\n",
        "\n",
        "    hasil_bagi = angka1 / angka2\n",
        "\n",
        "    hasil_kali = angka1 * angka2\n",
        "\n",
        "    return hasil_bagi, hasil_kali\n",
        "\n",
        "try:\n",
        "    angka1 = float(input(\"Angka pertama: \"))\n",
        "    angka2 = float(input(\"Angka kedua: \"))\n",
        "\n",
        "    hasil = bagi_dan_kali(angka1, angka2)\n",
        "\n",
        "    if isinstance(hasil, str):\n",
        "        print(hasil)\n",
        "    else:\n",
        "        print(f\"Pembagian: {hasil[0]}\")\n",
        "        print(f\"Perkalian: {hasil[1]}\")\n",
        "except ValueError:\n",
        "    print(\"Input tidak valid. Silakan masukkan angka yang benar.\")\n"
      ],
      "metadata": {
        "id": "rpWoAjX1TIWt",
        "outputId": "8efe7738-9879-49f0-d24d-23cccaf7e743",
        "colab": {
          "base_uri": "https://localhost:8080/"
        }
      },
      "execution_count": 6,
      "outputs": [
        {
          "output_type": "stream",
          "name": "stdout",
          "text": [
            "Angka pertama: 3\n",
            "Angka kedua: 3\n",
            "Pembagian: 1.0\n",
            "Perkalian: 9.0\n"
          ]
        }
      ]
    }
  ]
}