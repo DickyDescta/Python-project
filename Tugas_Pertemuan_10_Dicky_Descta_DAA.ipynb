{
  "nbformat": 4,
  "nbformat_minor": 0,
  "metadata": {
    "colab": {
      "provenance": [],
      "authorship_tag": "ABX9TyNCgKAtcIDwyoJM7k+OCbEM",
      "include_colab_link": true
    },
    "kernelspec": {
      "name": "python3",
      "display_name": "Python 3"
    },
    "language_info": {
      "name": "python"
    }
  },
  "cells": [
    {
      "cell_type": "markdown",
      "metadata": {
        "id": "view-in-github",
        "colab_type": "text"
      },
      "source": [
        "<a href=\"https://colab.research.google.com/github/DickyDescta/Python-project/blob/main/Tugas_Pertemuan_10_Dicky_Descta_DAA.ipynb\" target=\"_parent\"><img src=\"https://colab.research.google.com/assets/colab-badge.svg\" alt=\"Open In Colab\"/></a>"
      ]
    },
    {
      "cell_type": "code",
      "execution_count": 1,
      "metadata": {
        "colab": {
          "base_uri": "https://localhost:8080/"
        },
        "id": "Clx9IWCdhvVK",
        "outputId": "9ecbd840-3dd0-45c1-afe2-b972f457f80c"
      },
      "outputs": [
        {
          "output_type": "stream",
          "name": "stdout",
          "text": [
            "Collecting pulp\n",
            "  Downloading PuLP-2.9.0-py3-none-any.whl.metadata (5.4 kB)\n",
            "Downloading PuLP-2.9.0-py3-none-any.whl (17.7 MB)\n",
            "\u001b[2K   \u001b[90m━━━━━━━━━━━━━━━━━━━━━━━━━━━━━━━━━━━━━━━━\u001b[0m \u001b[32m17.7/17.7 MB\u001b[0m \u001b[31m29.5 MB/s\u001b[0m eta \u001b[36m0:00:00\u001b[0m\n",
            "\u001b[?25hInstalling collected packages: pulp\n",
            "Successfully installed pulp-2.9.0\n"
          ]
        }
      ],
      "source": [
        "pip install pulp"
      ]
    },
    {
      "cell_type": "code",
      "source": [
        "import pulp\n"
      ],
      "metadata": {
        "id": "N2lWTW2eiPR5"
      },
      "execution_count": 2,
      "outputs": []
    },
    {
      "cell_type": "code",
      "source": [
        "model = pulp.LpProblem(\"ProfitMaximisingProblem\", pulp.LpMaximize)"
      ],
      "metadata": {
        "id": "6HRxCYDsic6l"
      },
      "execution_count": 3,
      "outputs": []
    },
    {
      "cell_type": "code",
      "source": [
        "A = pulp.LpVariable('A', lowBound=0, cat='Integer')\n",
        "B = pulp.LpVariable('B', lowBound=0, cat='Integer')"
      ],
      "metadata": {
        "id": "zZgsiERoirfr"
      },
      "execution_count": 4,
      "outputs": []
    },
    {
      "cell_type": "code",
      "source": [
        "model += 5000 * A + 2500 * B, \"Profit\"\n",
        "model += 3 * A + 2 * B <= 20,\n",
        "model += 4 * A + 3 * B <= 30,\n",
        "model += 4 * A + 3 * B <= 44,\n",
        "model.solve()\n",
        "pulp.LpStatus[model.status]"
      ],
      "metadata": {
        "colab": {
          "base_uri": "https://localhost:8080/",
          "height": 367
        },
        "id": "hH8yoozei31Q",
        "outputId": "94fdd5f3-66ca-48e1-b802-cc0f8275b367"
      },
      "execution_count": 6,
      "outputs": [
        {
          "output_type": "stream",
          "name": "stderr",
          "text": [
            "/usr/local/lib/python3.10/dist-packages/pulp/pulp.py:1650: UserWarning: Overwriting previously set objective.\n",
            "  warnings.warn(\"Overwriting previously set objective.\")\n"
          ]
        },
        {
          "output_type": "error",
          "ename": "ValueError",
          "evalue": "not enough values to unpack (expected 2, got 1)",
          "traceback": [
            "\u001b[0;31m---------------------------------------------------------------------------\u001b[0m",
            "\u001b[0;31mValueError\u001b[0m                                Traceback (most recent call last)",
            "\u001b[0;32m<ipython-input-6-aab126380ee8>\u001b[0m in \u001b[0;36m<cell line: 2>\u001b[0;34m()\u001b[0m\n\u001b[1;32m      1\u001b[0m \u001b[0mmodel\u001b[0m \u001b[0;34m+=\u001b[0m \u001b[0;36m5000\u001b[0m \u001b[0;34m*\u001b[0m \u001b[0mA\u001b[0m \u001b[0;34m+\u001b[0m \u001b[0;36m2500\u001b[0m \u001b[0;34m*\u001b[0m \u001b[0mB\u001b[0m\u001b[0;34m,\u001b[0m \u001b[0;34m\"Profit\"\u001b[0m\u001b[0;34m\u001b[0m\u001b[0;34m\u001b[0m\u001b[0m\n\u001b[0;32m----> 2\u001b[0;31m \u001b[0mmodel\u001b[0m \u001b[0;34m+=\u001b[0m \u001b[0;36m3\u001b[0m \u001b[0;34m*\u001b[0m \u001b[0mA\u001b[0m \u001b[0;34m+\u001b[0m \u001b[0;36m2\u001b[0m \u001b[0;34m*\u001b[0m \u001b[0mB\u001b[0m \u001b[0;34m<=\u001b[0m \u001b[0;36m20\u001b[0m\u001b[0;34m,\u001b[0m\u001b[0;34m\u001b[0m\u001b[0;34m\u001b[0m\u001b[0m\n\u001b[0m\u001b[1;32m      3\u001b[0m \u001b[0mmodel\u001b[0m \u001b[0;34m+=\u001b[0m \u001b[0;36m4\u001b[0m \u001b[0;34m*\u001b[0m \u001b[0mA\u001b[0m \u001b[0;34m+\u001b[0m \u001b[0;36m3\u001b[0m \u001b[0;34m*\u001b[0m \u001b[0mB\u001b[0m \u001b[0;34m<=\u001b[0m \u001b[0;36m30\u001b[0m\u001b[0;34m,\u001b[0m\u001b[0;34m\u001b[0m\u001b[0;34m\u001b[0m\u001b[0m\n\u001b[1;32m      4\u001b[0m \u001b[0mmodel\u001b[0m \u001b[0;34m+=\u001b[0m \u001b[0;36m4\u001b[0m \u001b[0;34m*\u001b[0m \u001b[0mA\u001b[0m \u001b[0;34m+\u001b[0m \u001b[0;36m3\u001b[0m \u001b[0;34m*\u001b[0m \u001b[0mB\u001b[0m \u001b[0;34m<=\u001b[0m \u001b[0;36m44\u001b[0m\u001b[0;34m,\u001b[0m\u001b[0;34m\u001b[0m\u001b[0;34m\u001b[0m\u001b[0m\n\u001b[1;32m      5\u001b[0m \u001b[0mmodel\u001b[0m\u001b[0;34m.\u001b[0m\u001b[0msolve\u001b[0m\u001b[0;34m(\u001b[0m\u001b[0;34m)\u001b[0m\u001b[0;34m\u001b[0m\u001b[0;34m\u001b[0m\u001b[0m\n",
            "\u001b[0;32m/usr/local/lib/python3.10/dist-packages/pulp/pulp.py\u001b[0m in \u001b[0;36m__iadd__\u001b[0;34m(self, other)\u001b[0m\n\u001b[1;32m   1635\u001b[0m     \u001b[0;32mdef\u001b[0m \u001b[0m__iadd__\u001b[0m\u001b[0;34m(\u001b[0m\u001b[0mself\u001b[0m\u001b[0;34m,\u001b[0m \u001b[0mother\u001b[0m\u001b[0;34m)\u001b[0m\u001b[0;34m:\u001b[0m\u001b[0;34m\u001b[0m\u001b[0;34m\u001b[0m\u001b[0m\n\u001b[1;32m   1636\u001b[0m         \u001b[0;32mif\u001b[0m \u001b[0misinstance\u001b[0m\u001b[0;34m(\u001b[0m\u001b[0mother\u001b[0m\u001b[0;34m,\u001b[0m \u001b[0mtuple\u001b[0m\u001b[0;34m)\u001b[0m\u001b[0;34m:\u001b[0m\u001b[0;34m\u001b[0m\u001b[0;34m\u001b[0m\u001b[0m\n\u001b[0;32m-> 1637\u001b[0;31m             \u001b[0mother\u001b[0m\u001b[0;34m,\u001b[0m \u001b[0mname\u001b[0m \u001b[0;34m=\u001b[0m \u001b[0mother\u001b[0m\u001b[0;34m\u001b[0m\u001b[0;34m\u001b[0m\u001b[0m\n\u001b[0m\u001b[1;32m   1638\u001b[0m         \u001b[0;32melse\u001b[0m\u001b[0;34m:\u001b[0m\u001b[0;34m\u001b[0m\u001b[0;34m\u001b[0m\u001b[0m\n\u001b[1;32m   1639\u001b[0m             \u001b[0mname\u001b[0m \u001b[0;34m=\u001b[0m \u001b[0;32mNone\u001b[0m\u001b[0;34m\u001b[0m\u001b[0;34m\u001b[0m\u001b[0m\n",
            "\u001b[0;31mValueError\u001b[0m: not enough values to unpack (expected 2, got 1)"
          ]
        }
      ]
    },
    {
      "cell_type": "code",
      "source": [
        "import numpy as np\n",
        "\n",
        "# Coefficients matrix (left-hand side)\n",
        "A = np.array([\n",
        "    [4, 3],  # Coefficients of the first equation\n",
        "    [5, 1]   # Coefficients of the second equation\n",
        "])\n",
        "\n",
        "# Constants (right-hand side)\n",
        "b = np.array([34, 37])\n",
        "\n",
        "# Solve the linear system\n",
        "solution = np.linalg.solve(A, b)\n",
        "solution\n"
      ],
      "metadata": {
        "colab": {
          "base_uri": "https://localhost:8080/"
        },
        "id": "_2oyWrZEkMbu",
        "outputId": "4e14e6a2-73c5-4211-a9da-c48156d2e629"
      },
      "execution_count": 7,
      "outputs": [
        {
          "output_type": "execute_result",
          "data": {
            "text/plain": [
              "array([7., 2.])"
            ]
          },
          "metadata": {},
          "execution_count": 7
        }
      ]
    },
    {
      "cell_type": "code",
      "source": [
        "# Coefficients matrix (left-hand side)\n",
        "A = np.array([\n",
        "    [3, 4],  # Coefficients of the first equation\n",
        "    [1, 7]   # Coefficients of the second equation\n",
        "])\n",
        "\n",
        "# Constants (right-hand side)\n",
        "b = np.array([11000, 15000])\n",
        "\n",
        "# Solve the linear system\n",
        "solution = np.linalg.solve(A, b)\n",
        "\n",
        "# Find the price of two pens and six books\n",
        "price_two_pens_and_six_books = 2 * solution[0] + 6 * solution[1]\n",
        "solution, price_two_pens_and_six_books\n"
      ],
      "metadata": {
        "colab": {
          "base_uri": "https://localhost:8080/"
        },
        "id": "R1GSECxhkhfu",
        "outputId": "6dc31846-d4d4-4716-d648-697343797bf1"
      },
      "execution_count": 8,
      "outputs": [
        {
          "output_type": "execute_result",
          "data": {
            "text/plain": [
              "(array([1000., 2000.]), 14000.0)"
            ]
          },
          "metadata": {},
          "execution_count": 8
        }
      ]
    },
    {
      "cell_type": "code",
      "source": [
        "# Diketahui harga buku B\n",
        "B = 2000\n",
        "\n",
        "# Menghitung harga dua pensil (2P) menggunakan persamaan 2P = 11,000 - 4B\n",
        "P = (11000 - 4 * B) / 3  # Menghitung harga pensil P\n",
        "\n",
        "# Menghitung harga dua pensil (2P)\n",
        "price_two_pens = 2 * P\n",
        "\n",
        "# Menghitung harga enam buku (6B)\n",
        "price_six_books = 6 * B\n",
        "\n",
        "# Total harga dua pensil dan enam buku\n",
        "total_price = price_two_pens + price_six_books\n",
        "\n",
        "# Menampilkan hasil\n",
        "print(f\"Harga dua pensil (2P) = Rp {price_two_pens}\")\n",
        "print(f\"Harga enam buku (6B) = Rp {price_six_books}\")\n",
        "print(f\"Total harga dua pensil dan enam buku = Rp {total_price}\")\n"
      ],
      "metadata": {
        "colab": {
          "base_uri": "https://localhost:8080/"
        },
        "id": "-B-iSToMliOg",
        "outputId": "60a090f6-0665-47f7-cf67-40c726f0fb87"
      },
      "execution_count": 9,
      "outputs": [
        {
          "output_type": "stream",
          "name": "stdout",
          "text": [
            "Harga dua pensil (2P) = Rp 2000.0\n",
            "Harga enam buku (6B) = Rp 12000\n",
            "Total harga dua pensil dan enam buku = Rp 14000.0\n"
          ]
        }
      ]
    },
    {
      "cell_type": "code",
      "source": [
        "# Diketahui\n",
        "keliling = 44\n",
        "selisih = 6\n",
        "\n",
        "# Persamaan pertama: P + L = 22\n",
        "# Persamaan kedua: L = P - 6\n",
        "\n",
        "# Menyelesaikan sistem persamaan:\n",
        "# P + (P - 6) = 22\n",
        "# 2P - 6 = 22\n",
        "# 2P = 28\n",
        "# P = 14\n",
        "\n",
        "P = (keliling / 2) + selisih / 2  # Panjang\n",
        "L = P - selisih  # Lebar\n",
        "\n",
        "# Menampilkan hasil\n",
        "print(f\"Panjang (P) = {P} cm\")\n",
        "print(f\"Lebar (L) = {L} cm\")\n"
      ],
      "metadata": {
        "colab": {
          "base_uri": "https://localhost:8080/"
        },
        "id": "0KthzGzAl1E3",
        "outputId": "58c02c48-d86c-49cd-f111-3aca61a91b06"
      },
      "execution_count": 10,
      "outputs": [
        {
          "output_type": "stream",
          "name": "stdout",
          "text": [
            "Panjang (P) = 25.0 cm\n",
            "Lebar (L) = 19.0 cm\n"
          ]
        }
      ]
    },
    {
      "cell_type": "code",
      "source": [
        "from scipy.optimize import linprog\n",
        "\n",
        "# Koefisien untuk fungsi objektif\n",
        "c = [0, 0]  # Tidak mengoptimalkan, hanya mencari solusi\n",
        "\n",
        "# Koefisien untuk persamaan (A_eq * x = b_eq)\n",
        "A_eq = [\n",
        "    [4, 12],  # Persamaan pertama: 4x + 12y = 28\n",
        "    [2, 1]    # Persamaan kedua: 2x + y = 21\n",
        "]\n",
        "\n",
        "# Nilai di sisi kanan persamaan\n",
        "b_eq = [28, 21]\n",
        "\n",
        "# Batasan variabel (x, y >= 0)\n",
        "x_bounds = (0, None)\n",
        "y_bounds = (0, None)\n",
        "\n",
        "# Mencari solusi menggunakan linprog\n",
        "result = linprog(c, A_eq=A_eq, b_eq=b_eq, bounds=[x_bounds, y_bounds], method='highs')\n",
        "\n",
        "# Menampilkan hasil\n",
        "if result.success:\n",
        "    print(f\"Solusi ditemukan: x = {result.x[0]}, y = {result.x[1]}\")\n",
        "else:\n",
        "    print(\"Solusi tidak ditemukan.\")\n"
      ],
      "metadata": {
        "colab": {
          "base_uri": "https://localhost:8080/"
        },
        "id": "56ol_xc4mJgr",
        "outputId": "f1bf586f-64e0-4364-8fa8-11bed345620c"
      },
      "execution_count": 14,
      "outputs": [
        {
          "output_type": "stream",
          "name": "stdout",
          "text": [
            "Solusi tidak ditemukan.\n"
          ]
        }
      ]
    },
    {
      "cell_type": "code",
      "source": [
        "# Diketahui\n",
        "keliling = 44\n",
        "selisih = 6\n",
        "\n",
        "# Persamaan untuk mencari panjang (P)\n",
        "P = (keliling + 2 * selisih) / 4  # Menghitung panjang kebun\n",
        "\n",
        "# Menghitung lebar (L)\n",
        "L = P - selisih  # Lebar kebun\n",
        "\n",
        "# Menampilkan hasil\n",
        "print(f\"Panjang kebun (P) = {P} meter\")\n",
        "print(f\"Lebar kebun (L) = {L} meter\")\n"
      ],
      "metadata": {
        "colab": {
          "base_uri": "https://localhost:8080/"
        },
        "id": "VSFtOW20mY2a",
        "outputId": "7097c19e-263e-4d9f-e4a6-6774fa673dc6"
      },
      "execution_count": 13,
      "outputs": [
        {
          "output_type": "stream",
          "name": "stdout",
          "text": [
            "Panjang kebun (P) = 14.0 meter\n",
            "Lebar kebun (L) = 8.0 meter\n"
          ]
        }
      ]
    }
  ]
}