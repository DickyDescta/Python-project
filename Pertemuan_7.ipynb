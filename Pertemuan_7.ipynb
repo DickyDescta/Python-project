{
  "nbformat": 4,
  "nbformat_minor": 0,
  "metadata": {
    "colab": {
      "provenance": [],
      "authorship_tag": "ABX9TyOzfI+XZ2GaXe2dHRScB4RK",
      "include_colab_link": true
    },
    "kernelspec": {
      "name": "python3",
      "display_name": "Python 3"
    },
    "language_info": {
      "name": "python"
    }
  },
  "cells": [
    {
      "cell_type": "markdown",
      "metadata": {
        "id": "view-in-github",
        "colab_type": "text"
      },
      "source": [
        "<a href=\"https://colab.research.google.com/github/DickyDescta/Python-project/blob/main/Pertemuan_7.ipynb\" target=\"_parent\"><img src=\"https://colab.research.google.com/assets/colab-badge.svg\" alt=\"Open In Colab\"/></a>"
      ]
    },
    {
      "cell_type": "code",
      "execution_count": 1,
      "metadata": {
        "colab": {
          "base_uri": "https://localhost:8080/"
        },
        "id": "Ltg3zCLIarYP",
        "outputId": "c7697a66-16c5-46ed-f21c-81ae87f1cf7e"
      },
      "outputs": [
        {
          "output_type": "stream",
          "name": "stdout",
          "text": [
            "21 0 \n",
            "42 12 \n"
          ]
        }
      ],
      "source": [
        "mat1 = [\n",
        "    [7, 0],\n",
        "    [4, 6],\n",
        "]\n",
        "\n",
        "mat2 = [\n",
        "    [3, 0],\n",
        "    [5, 2],\n",
        "]\n",
        "\n",
        "mat3 = []\n",
        "\n",
        "for x in range(0, len(mat1)):\n",
        "    row = []\n",
        "    for y in range(0, len(mat1[0])):\n",
        "        total = 0\n",
        "        for z in range(0, len(mat1)):\n",
        "            total = total + (mat1[x][z] * mat2[z][y])\n",
        "        row.append(total)\n",
        "    mat3.append(row)\n",
        "\n",
        "for x in range(0, len(mat3)):\n",
        "    for y in range(0, len(mat3[0])):\n",
        "        print(mat3[x][y], end=' ')\n",
        "    print()\n"
      ]
    },
    {
      "cell_type": "code",
      "source": [
        "def faktorial(n):\n",
        "    if (n == 1):\n",
        "        return n\n",
        "    return faktorial(n - 1) * n\n",
        "\n",
        "n = int(input(\"Masukan nilai n: \"))  # input nilai\n",
        "print(f\"Hasil dari {n}! =\", faktorial(n))  # output nilai\n"
      ],
      "metadata": {
        "colab": {
          "base_uri": "https://localhost:8080/"
        },
        "id": "ff8FDkqsbNx0",
        "outputId": "99d0274d-4540-464c-c47d-9bf7e9efe247"
      },
      "execution_count": 3,
      "outputs": [
        {
          "output_type": "stream",
          "name": "stdout",
          "text": [
            "Masukan nilai n: 8\n",
            "Hasil dari 8! = 40320\n"
          ]
        }
      ]
    },
    {
      "cell_type": "code",
      "source": [
        "def nilai_maksimal(deret_bilangan):\n",
        "    nilai_terbesar = deret_bilangan[0]\n",
        "\n",
        "    for nilai in deret_bilangan:\n",
        "        if nilai > nilai_terbesar:\n",
        "            nilai_terbesar = nilai\n",
        "\n",
        "    return nilai_terbesar\n",
        "\n",
        "a = [3, 20, 100, -35, 50]\n",
        "\n",
        "print(a)\n",
        "print('Nilai terbesar:', nilai_maksimal(a))\n"
      ],
      "metadata": {
        "colab": {
          "base_uri": "https://localhost:8080/"
        },
        "id": "JP4yBNNFbkGs",
        "outputId": "161562bf-0034-4c88-83f6-3b591e1e5f57"
      },
      "execution_count": 4,
      "outputs": [
        {
          "output_type": "stream",
          "name": "stdout",
          "text": [
            "[3, 20, 100, -35, 50]\n",
            "Nilai terbesar: 100\n"
          ]
        }
      ]
    },
    {
      "cell_type": "code",
      "source": [
        "def nilai_minimal(deret_bilangan):\n",
        "    nilai_terkecil = deret_bilangan[0]\n",
        "\n",
        "    for nilai in deret_bilangan:\n",
        "        if nilai < nilai_terkecil:\n",
        "            nilai_terkecil = nilai\n",
        "\n",
        "    return nilai_terkecil\n",
        "\n",
        "a = [3, 20, 100, -35, 50]\n",
        "\n",
        "print(a)\n",
        "print('Nilai terkecil:', nilai_minimal(a))\n"
      ],
      "metadata": {
        "colab": {
          "base_uri": "https://localhost:8080/"
        },
        "id": "q_e3VKz4cBnw",
        "outputId": "44b35ed8-09b4-447b-b94f-62788e43217f"
      },
      "execution_count": 5,
      "outputs": [
        {
          "output_type": "stream",
          "name": "stdout",
          "text": [
            "[3, 20, 100, -35, 50]\n",
            "Nilai terkecil: -35\n"
          ]
        }
      ]
    },
    {
      "cell_type": "code",
      "source": [
        "def sequential_search(deret_bilangan, target):\n",
        "    # Iterasi melalui setiap elemen dalam deret_bilangan\n",
        "    for index in range(len(deret_bilangan)):\n",
        "        # Jika elemen ditemukan yang sama dengan target\n",
        "        if deret_bilangan[index] == target:\n",
        "            return index  # Kembalikan indeks elemen yang ditemukan\n",
        "\n",
        "    return -1  # Jika tidak ditemukan, kembalikan -1\n",
        "\n",
        "# Contoh penggunaan\n",
        "a = [3, 20, 100, -35, 50]\n",
        "target = 100\n",
        "\n",
        "print(f\"Deret bilangan: {a}\")\n",
        "hasil = sequential_search(a, target)\n",
        "\n",
        "if hasil != -1:\n",
        "    print(f\"Nilai {target} ditemukan pada indeks {hasil}\")\n",
        "else:\n",
        "    print(f\"Nilai {target} tidak ditemukan\")\n"
      ],
      "metadata": {
        "colab": {
          "base_uri": "https://localhost:8080/"
        },
        "id": "JVBGzaizcbpj",
        "outputId": "c38be83d-fb72-48e5-ee2e-d5f82ab72721"
      },
      "execution_count": 6,
      "outputs": [
        {
          "output_type": "stream",
          "name": "stdout",
          "text": [
            "Deret bilangan: [3, 20, 100, -35, 50]\n",
            "Nilai 100 ditemukan pada indeks 2\n"
          ]
        }
      ]
    },
    {
      "cell_type": "code",
      "source": [
        "def bubble_sort(deret_bilangan):\n",
        "    n = len(deret_bilangan)\n",
        "    for i in range(n):\n",
        "        # Flag untuk mengetahui apakah ada pertukaran\n",
        "        swapped = False\n",
        "        for j in range(0, n-i-1):\n",
        "            if deret_bilangan[j] > deret_bilangan[j+1]:\n",
        "                # Tukar jika urutan salah\n",
        "                deret_bilangan[j], deret_bilangan[j+1] = deret_bilangan[j+1], deret_bilangan[j]\n",
        "                swapped = True\n",
        "        # Jika tidak ada pertukaran, berarti sudah terurut\n",
        "        if not swapped:\n",
        "            break\n",
        "    return deret_bilangan\n",
        "\n",
        "# Contoh penggunaan Bubble Sort\n",
        "a = [64, 34, 25, 12, 22, 11, 90]\n",
        "print(\"List sebelum diurutkan:\", a)\n",
        "print(\"List setelah diurutkan:\", bubble_sort(a))\n"
      ],
      "metadata": {
        "colab": {
          "base_uri": "https://localhost:8080/"
        },
        "id": "3dzCxFhCc1l-",
        "outputId": "65d7e2e3-7e68-4ebf-f75b-15a28c035463"
      },
      "execution_count": 7,
      "outputs": [
        {
          "output_type": "stream",
          "name": "stdout",
          "text": [
            "List sebelum diurutkan: [64, 34, 25, 12, 22, 11, 90]\n",
            "List setelah diurutkan: [11, 12, 22, 25, 34, 64, 90]\n"
          ]
        }
      ]
    },
    {
      "cell_type": "code",
      "source": [
        "def cek_prima(n):\n",
        "    if n <= 1:\n",
        "        return False\n",
        "    for i in range(2, int(n**0.5) + 1):\n",
        "        if n % i == 0:\n",
        "            return False\n",
        "    return True\n",
        "\n",
        "# Contoh penggunaan untuk memeriksa angka prima\n",
        "angka = 29\n",
        "\n",
        "if cek_prima(angka):\n",
        "    print(f\"{angka} adalah angka prima.\")\n",
        "else:\n",
        "    print(f\"{angka} bukan angka prima.\")\n"
      ],
      "metadata": {
        "colab": {
          "base_uri": "https://localhost:8080/"
        },
        "id": "mpBxT8fGc3nz",
        "outputId": "4404d8dd-8da4-4809-8d3a-56381bd531e7"
      },
      "execution_count": 8,
      "outputs": [
        {
          "output_type": "stream",
          "name": "stdout",
          "text": [
            "29 adalah angka prima.\n"
          ]
        }
      ]
    }
  ]
}