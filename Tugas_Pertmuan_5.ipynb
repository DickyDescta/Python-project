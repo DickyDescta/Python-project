{
  "nbformat": 4,
  "nbformat_minor": 0,
  "metadata": {
    "colab": {
      "provenance": [],
      "authorship_tag": "ABX9TyMSKEZpaOeogpg915Uu/Cpf",
      "include_colab_link": true
    },
    "kernelspec": {
      "name": "python3",
      "display_name": "Python 3"
    },
    "language_info": {
      "name": "python"
    }
  },
  "cells": [
    {
      "cell_type": "markdown",
      "metadata": {
        "id": "view-in-github",
        "colab_type": "text"
      },
      "source": [
        "<a href=\"https://colab.research.google.com/github/DickyDescta/Python-project/blob/main/Tugas_Pertmuan_5.ipynb\" target=\"_parent\"><img src=\"https://colab.research.google.com/assets/colab-badge.svg\" alt=\"Open In Colab\"/></a>"
      ]
    },
    {
      "cell_type": "code",
      "execution_count": 16,
      "metadata": {
        "id": "yUHtxSeYC9mj"
      },
      "outputs": [],
      "source": [
        "def maxSubArraySum(arr, l, h) :\n",
        "  if (l > h) :\n",
        "    return -10000\n",
        "  if (l == h) :\n",
        "    return arr[l]\n",
        "  m = (l + h) // 2\n",
        "  return max(maxSubArraySum(arr, l, m-1),\n",
        "             maxSubArraySum(arr, m+1, h),\n",
        "             maxCrossingsum(arr, l, m, h))\n",
        "  arr = [4,12,23,9,21,1,35,2,24]\n",
        "  n = len(arr)\n",
        "  max_sum = maxSubArraySum(arr, 0, n-1)\n",
        "  print(\"Maximum contiguous sum is \", max_sum)"
      ]
    },
    {
      "cell_type": "code",
      "source": [
        "# Fungsi untuk menemukan nilai minimum dan maksimum menggunakan divide and conquer\n",
        "def find_min_max(arr, low, high):\n",
        "    # Jika hanya ada satu elemen\n",
        "    if low == high:\n",
        "        return (arr[low], arr[low])\n",
        "\n",
        "    # Jika ada dua elemen\n",
        "    elif high == low + 1:\n",
        "        if arr[low] < arr[high]:\n",
        "            return (arr[low], arr[high])\n",
        "        else:\n",
        "            return (arr[high], arr[low])\n",
        "\n",
        "    # Jika ada lebih dari dua elemen, bagi menjadi dua bagian\n",
        "    else:\n",
        "        mid = (low + high) // 2\n",
        "\n",
        "        # Rekursif untuk bagian kiri dan kanan\n",
        "        min1, max1 = find_min_max(arr, low, mid)\n",
        "        min2, max2 = find_min_max(arr, mid + 1, high)\n",
        "\n",
        "        # Menggabungkan hasil dari dua bagian\n",
        "        return (min(min1, min2), max(max1, max2))\n",
        "\n",
        "# Daftar angka yang diberikan\n",
        "numbers = [4, 12, 23, 9, 21, 1, 35, 2, 24]\n",
        "\n",
        "# Memanggil fungsi dan menampilkan hasil\n",
        "min_value, max_value = find_min_max(numbers, 0, len(numbers) - 1)\n",
        "\n",
        "print(\"Nilai Minimum:\", min_value)\n",
        "print(\"Nilai Maksimum:\", max_value)\n"
      ],
      "metadata": {
        "colab": {
          "base_uri": "https://localhost:8080/"
        },
        "id": "8aCdNDF5Fv-3",
        "outputId": "8480ef63-c504-4ac7-9421-c3800c7839fc"
      },
      "execution_count": 5,
      "outputs": [
        {
          "output_type": "stream",
          "name": "stdout",
          "text": [
            "Nilai Minimum: 1\n",
            "Nilai Maksimum: 35\n"
          ]
        }
      ]
    },
    {
      "cell_type": "code",
      "source": [
        "# Fungsi untuk menggabungkan dua sub-array\n",
        "def merge(left, right):\n",
        "    result = []\n",
        "    i = 0\n",
        "    j = 0\n",
        "\n",
        "    # Menggabungkan elemen-elemen dari sub-array kiri dan kanan secara berurutan\n",
        "    while i < len(left) and j < len(right):\n",
        "        if left[i] < right[j]:\n",
        "            result.append(left[i])\n",
        "            i += 1\n",
        "        else:\n",
        "            result.append(right[j])\n",
        "            j += 1\n",
        "\n",
        "    # Jika masih ada elemen di sub-array kiri atau kanan, tambahkan mereka\n",
        "    result.extend(left[i:])\n",
        "    result.extend(right[j:])\n",
        "\n",
        "    return result\n",
        "\n",
        "# Fungsi rekursif untuk menerapkan Merge Sort\n",
        "def merge_sort(arr):\n",
        "    # Basis rekursi: jika array hanya terdiri dari satu elemen, kembalikan array tersebut\n",
        "    if len(arr) <= 1:\n",
        "        return arr\n",
        "\n",
        "    # Membagi array menjadi dua bagian\n",
        "    mid = len(arr) // 2\n",
        "    left = merge_sort(arr[:mid])\n",
        "    right = merge_sort(arr[mid:])\n",
        "\n",
        "    # Menggabungkan hasil dari kedua bagian yang sudah diurutkan\n",
        "    return merge(left, right)\n",
        "\n",
        "# Daftar angka yang diberikan\n",
        "numbers = [4, 12, 23, 9, 21, 1, 35, 2, 24]\n",
        "\n",
        "# Memanggil fungsi Merge Sort dan menampilkan hasil\n",
        "sorted_numbers = merge_sort(numbers)\n",
        "print(\"Hasil pengurutan:\", sorted_numbers)\n"
      ],
      "metadata": {
        "colab": {
          "base_uri": "https://localhost:8080/"
        },
        "id": "z4RWIr7GKtX4",
        "outputId": "4911f863-0032-4bfd-9a05-adb63938720a"
      },
      "execution_count": 6,
      "outputs": [
        {
          "output_type": "stream",
          "name": "stdout",
          "text": [
            "Hasil pengurutan: [1, 2, 4, 9, 12, 21, 23, 24, 35]\n"
          ]
        }
      ]
    },
    {
      "cell_type": "code",
      "source": [
        "# Fungsi untuk melakukan Insertion Sort\n",
        "def insertion_sort(arr):\n",
        "    # Iterasi dari elemen kedua sampai akhir\n",
        "    for i in range(1, len(arr)):\n",
        "        key = arr[i]\n",
        "        j = i - 1\n",
        "\n",
        "        # Memindahkan elemen-elemen yang lebih besar dari key ke satu posisi di depan posisinya saat ini\n",
        "        while j >= 0 and key < arr[j]:\n",
        "            arr[j + 1] = arr[j]\n",
        "            j -= 1\n",
        "\n",
        "        # Menempatkan elemen key di posisinya yang tepat\n",
        "        arr[j + 1] = key\n",
        "\n",
        "    return arr\n",
        "\n",
        "# Daftar angka yang diberikan\n",
        "numbers = [4, 12, 23, 9, 21, 1, 35, 2, 24]\n",
        "\n",
        "# Memanggil fungsi Insertion Sort dan menampilkan hasil\n",
        "sorted_numbers = insertion_sort(numbers)\n",
        "print(\"Hasil pengurutan:\", sorted_numbers)\n"
      ],
      "metadata": {
        "colab": {
          "base_uri": "https://localhost:8080/"
        },
        "id": "RqzK5_H_K2n0",
        "outputId": "8268a326-e186-4d1a-843e-9c90440dd6be"
      },
      "execution_count": 7,
      "outputs": [
        {
          "output_type": "stream",
          "name": "stdout",
          "text": [
            "Hasil pengurutan: [1, 2, 4, 9, 12, 21, 23, 24, 35]\n"
          ]
        }
      ]
    },
    {
      "cell_type": "code",
      "source": [
        "# Fungsi untuk melakukan Quick Sort\n",
        "def quick_sort(arr):\n",
        "    # Basis rekursi: Jika panjang array 0 atau 1, kembalikan array\n",
        "    if len(arr) <= 1:\n",
        "        return arr\n",
        "\n",
        "    # Memilih elemen pivot\n",
        "    pivot = arr[len(arr) // 2]\n",
        "\n",
        "    # Membagi elemen menjadi tiga bagian: lebih kecil dari pivot, sama dengan pivot, dan lebih besar dari pivot\n",
        "    left = [x for x in arr if x < pivot]\n",
        "    middle = [x for x in arr if x == pivot]\n",
        "    right = [x for x in arr if x > pivot]\n",
        "\n",
        "    # Rekursif memanggil quick_sort pada bagian kiri dan kanan\n",
        "    return quick_sort(left) + middle + quick_sort(right)\n",
        "\n",
        "# Daftar angka yang diberikan\n",
        "numbers = [4, 12, 23, 9, 21, 1, 35, 2, 24]\n",
        "\n",
        "# Memanggil fungsi Quick Sort dan menampilkan hasil\n",
        "sorted_numbers = quick_sort(numbers)\n",
        "print(\"Hasil pengurutan:\", sorted_numbers)\n"
      ],
      "metadata": {
        "colab": {
          "base_uri": "https://localhost:8080/"
        },
        "id": "p1m7FP0mLJfl",
        "outputId": "2d7d2e3d-6c55-458f-dd9f-12bea547aa5c"
      },
      "execution_count": 8,
      "outputs": [
        {
          "output_type": "stream",
          "name": "stdout",
          "text": [
            "Hasil pengurutan: [1, 2, 4, 9, 12, 21, 23, 24, 35]\n"
          ]
        }
      ]
    },
    {
      "cell_type": "code",
      "source": [
        "# Fungsi untuk menggabungkan dua sub-array dan menghitung jumlah inversi\n",
        "def merge_and_count(arr, temp_arr, left, mid, right):\n",
        "    i = left    # Indeks sub-array kiri\n",
        "    j = mid + 1 # Indeks sub-array kanan\n",
        "    k = left    # Indeks sub-array hasil penggabungan\n",
        "    inv_count = 0\n",
        "\n",
        "    # Menggabungkan kedua sub-array sambil menghitung inversi\n",
        "    while i <= mid and j <= right:\n",
        "        if arr[i] <= arr[j]:\n",
        "            temp_arr[k] = arr[i]\n",
        "            i += 1\n",
        "        else:\n",
        "            temp_arr[k] = arr[j]\n",
        "            inv_count += (mid - i + 1) # Menambah jumlah inversi\n",
        "            j += 1\n",
        "        k += 1\n",
        "\n",
        "    # Menyalin elemen yang tersisa dari sub-array kiri (jika ada)\n",
        "    while i <= mid:\n",
        "        temp_arr[k] = arr[i]\n",
        "        i += 1\n",
        "        k += 1\n",
        "\n",
        "    # Menyalin elemen yang tersisa dari sub-array kanan (jika ada)\n",
        "    while j <= right:\n",
        "        temp_arr[k] = arr[j]\n",
        "        j += 1\n",
        "        k += 1\n",
        "\n",
        "    # Menyalin sub-array hasil penggabungan ke array asli\n",
        "    for i in range(left, right + 1):\n",
        "        arr[i] = temp_arr[i]\n",
        "\n",
        "    return inv_count\n",
        "\n",
        "# Fungsi rekursif untuk melakukan Merge Sort dan menghitung inversi\n",
        "def merge_sort_and_count(arr, temp_arr, left, right):\n",
        "    inv_count = 0\n",
        "    if left < right:\n",
        "        mid = (left + right) // 2\n",
        "\n",
        "        # Rekursif untuk sub-array kiri dan kanan\n",
        "        inv_count += merge_sort_and_count(arr, temp_arr, left, mid)\n",
        "        inv_count += merge_sort_and_count(arr, temp_arr, mid + 1, right)\n",
        "\n",
        "        # Menggabungkan kedua sub-array dan menghitung jumlah inversi\n",
        "        inv_count += merge_and_count(arr, temp_arr, left, mid, right)\n",
        "\n",
        "    return inv_count\n",
        "\n",
        "# Fungsi untuk menghitung jumlah inversi dalam array\n",
        "def count_inversions(arr):\n",
        "    temp_arr = [0] * len(arr)\n",
        "    return merge_sort_and_count(arr, temp_arr, 0, len(arr) - 1)\n",
        "\n",
        "# Daftar angka yang diberikan\n",
        "numbers = [4, 12, 23, 9, 21, 1, 35, 2, 24]\n",
        "\n",
        "# Memanggil fungsi untuk menghitung inversi dan menampilkan hasil\n",
        "inversion_count = count_inversions(numbers)\n",
        "print(\"Jumlah inversi:\", inversion_count)\n"
      ],
      "metadata": {
        "colab": {
          "base_uri": "https://localhost:8080/"
        },
        "id": "cx6Om1lDLyuL",
        "outputId": "53865776-49f9-4291-999d-50e96ac21cb2"
      },
      "execution_count": 9,
      "outputs": [
        {
          "output_type": "stream",
          "name": "stdout",
          "text": [
            "Jumlah inversi: 15\n"
          ]
        }
      ]
    },
    {
      "cell_type": "code",
      "source": [
        "# Fungsi untuk menemukan jumlah subarray maksimum\n",
        "def max_subarray_sum(arr):\n",
        "    # Inisialisasi variabel\n",
        "    max_current = arr[0]  # Jumlah maksimum subarray hingga saat ini\n",
        "    max_global = arr[0]   # Jumlah subarray maksimum keseluruhan\n",
        "\n",
        "    # Iterasi melalui elemen array, dimulai dari indeks kedua\n",
        "    for i in range(1, len(arr)):\n",
        "        # Pilih elemen saat ini atau tambah dengan subarray sebelumnya\n",
        "        max_current = max(arr[i], max_current + arr[i])\n",
        "\n",
        "        # Update jumlah maksimum keseluruhan jika ditemukan yang lebih besar\n",
        "        if max_current > max_global:\n",
        "            max_global = max_current\n",
        "\n",
        "    return max_global\n",
        "\n",
        "# Daftar angka yang diberikan\n",
        "numbers = [4, -1, 2, 1, -5, 4]\n",
        "\n",
        "# Memanggil fungsi dan menampilkan hasil\n",
        "max_sum = max_subarray_sum(numbers)\n",
        "print(\"Jumlah subarray maksimum:\", max_sum)\n"
      ],
      "metadata": {
        "colab": {
          "base_uri": "https://localhost:8080/"
        },
        "id": "hNjHJ7j6MPw9",
        "outputId": "e12e2ffa-d17c-45e3-9795-d26c2073f703"
      },
      "execution_count": 10,
      "outputs": [
        {
          "output_type": "stream",
          "name": "stdout",
          "text": [
            "Jumlah subarray maksimum: 6\n"
          ]
        }
      ]
    },
    {
      "cell_type": "code",
      "source": [
        "# Fungsi untuk menemukan Longest Common Prefix\n",
        "def longest_common_prefix(strs):\n",
        "    if not strs:\n",
        "        return \"\"\n",
        "\n",
        "    # Inisialisasi prefix dengan string pertama\n",
        "    prefix = strs[0]\n",
        "\n",
        "    # Bandingkan prefix dengan setiap string berikutnya\n",
        "    for i in range(1, len(strs)):\n",
        "        while strs[i].find(prefix) != 0:\n",
        "            # Kurangi panjang prefix satu karakter pada saat tidak cocok\n",
        "            prefix = prefix[:-1]\n",
        "            if not prefix:\n",
        "                return \"\"\n",
        "\n",
        "    return prefix\n",
        "\n",
        "# Daftar string yang diberikan\n",
        "strings = [\"flower\", \"flow\", \"flight\"]\n",
        "\n",
        "# Memanggil fungsi dan menampilkan hasil\n",
        "common_prefix = longest_common_prefix(strings)\n",
        "print(\"Longest Common Prefix:\", common_prefix)\n"
      ],
      "metadata": {
        "colab": {
          "base_uri": "https://localhost:8080/"
        },
        "id": "hrZhuxoXMhwY",
        "outputId": "cb38c963-b86f-46a8-f91a-4fcef16d4821"
      },
      "execution_count": 11,
      "outputs": [
        {
          "output_type": "stream",
          "name": "stdout",
          "text": [
            "Longest Common Prefix: fl\n"
          ]
        }
      ]
    },
    {
      "cell_type": "code",
      "source": [
        "def find_median_sorted_arrays(arr1, arr2):\n",
        "    n = len(arr1)\n",
        "\n",
        "    # Menggunakan median dari dua array terurut\n",
        "    if n == 0:\n",
        "        return 0\n",
        "\n",
        "    # Menghitung median\n",
        "    median1 = arr1[n // 2]\n",
        "    median2 = arr2[n // 2]\n",
        "\n",
        "    return (median1 + median2) / 2\n",
        "\n",
        "# Contoh array terurut\n",
        "arr1 = [1, 3, 8]\n",
        "arr2 = [7, 9, 10]\n",
        "\n",
        "# Memanggil fungsi dan menampilkan hasil\n",
        "median = find_median_sorted_arrays(arr1, arr2)\n",
        "print(\"Median dari dua array terurut:\", median)\n"
      ],
      "metadata": {
        "colab": {
          "base_uri": "https://localhost:8080/"
        },
        "id": "gUtV5BykMuuP",
        "outputId": "64ff3a86-21c7-47d9-c785-b63d75119c2e"
      },
      "execution_count": 12,
      "outputs": [
        {
          "output_type": "stream",
          "name": "stdout",
          "text": [
            "Median dari dua array terurut: 6.0\n"
          ]
        }
      ]
    },
    {
      "cell_type": "code",
      "source": [
        "def find_median_sorted_arrays(nums1, nums2):\n",
        "    # Pastikan nums1 adalah array yang lebih kecil\n",
        "    if len(nums1) > len(nums2):\n",
        "        nums1, nums2 = nums2, nums1\n",
        "\n",
        "    n, m = len(nums1), len(nums2)\n",
        "    imin, imax, half_len = 0, n, (n + m + 1) // 2\n",
        "\n",
        "    while imin <= imax:\n",
        "        i = (imin + imax) // 2  # Partisi untuk nums1\n",
        "        j = half_len - i        # Partisi untuk nums2\n",
        "\n",
        "        if i < n and nums2[j - 1] > nums1[i]:\n",
        "            # Terlalu sedikit elemen di nums1\n",
        "            imin = i + 1\n",
        "        elif i > 0 and nums1[i - 1] > nums2[j]:\n",
        "            # Terlalu banyak elemen di nums1\n",
        "            imax = i - 1\n",
        "        else:\n",
        "            # Jumlah elemen pada kedua sisi sudah benar\n",
        "            if i == 0: max_of_left = nums2[j - 1]\n",
        "            elif j == 0: max_of_left = nums1[i - 1]\n",
        "            else: max_of_left = max(nums1[i - 1], nums2[j - 1])\n",
        "\n",
        "            if (n + m) % 2 == 1:\n",
        "                return max_of_left\n",
        "\n",
        "            if i == n: min_of_right = nums2[j]\n",
        "            elif j == m: min_of_right = nums1[i]\n",
        "            else: min_of_right = min(nums1[i], nums2[j])\n",
        "\n",
        "            return (max_of_left + min_of_right) / 2.0\n",
        "\n",
        "# Contoh penggunaan\n",
        "nums1 = [1, 3]\n",
        "nums2 = [2]\n",
        "\n",
        "# Memanggil fungsi dan menampilkan hasil\n",
        "median = find_median_sorted_arrays(nums1, nums2)\n",
        "print(\"Median dari dua array terurut:\", median)\n",
        "\n"
      ],
      "metadata": {
        "colab": {
          "base_uri": "https://localhost:8080/"
        },
        "id": "0a5FnW_UM_Cn",
        "outputId": "028b2bbc-33a3-47a5-9855-061594820edf"
      },
      "execution_count": 13,
      "outputs": [
        {
          "output_type": "stream",
          "name": "stdout",
          "text": [
            "Median dari dua array terurut: 2\n"
          ]
        }
      ]
    },
    {
      "cell_type": "code",
      "source": [
        "def closest_value_binary_search(arr, target):\n",
        "    left, right = 0, len(arr) - 1\n",
        "    # Jika target lebih kecil dari elemen pertama\n",
        "    if target < arr[left]:\n",
        "        return arr[left]\n",
        "    # Jika target lebih besar dari elemen terakhir\n",
        "    if target > arr[right]:\n",
        "        return arr[right]\n",
        "\n",
        "    while left <= right:\n",
        "        mid = (left + right) // 2\n",
        "\n",
        "        # Jika kita menemukan nilai yang tepat\n",
        "        if arr[mid] == target:\n",
        "            return arr[mid]\n",
        "\n",
        "        # Jika target lebih kecil dari elemen tengah\n",
        "        if arr[mid] < target:\n",
        "            left = mid + 1\n",
        "        else:\n",
        "            right = mid - 1\n",
        "\n",
        "    # Setelah loop, left berada di posisi elemen yang lebih besar dari target\n",
        "    # Sedangkan right berada di posisi elemen yang lebih kecil dari target\n",
        "    if right < 0:  # Jika semua elemen lebih besar\n",
        "        return arr[left]\n",
        "    if left >= len(arr):  # Jika semua elemen lebih kecil\n",
        "        return arr[right]\n",
        "\n",
        "    # Bandingkan elemen yang ditemukan di kedua sisi\n",
        "    if abs(arr[left] - target) < abs(arr[right] - target):\n",
        "        return arr[left]\n",
        "    else:\n",
        "        return arr[right]\n",
        "\n",
        "# Contoh penggunaan\n",
        "sorted_numbers = [1, 4, 7, 8]\n",
        "target = 5\n",
        "\n",
        "# Memanggil fungsi dan menampilkan hasil\n",
        "closest_num_binary = closest_value_binary_search(sorted_numbers, target)\n",
        "print(\"Nilai terdekat (Binary Search):\", closest_num_binary)\n"
      ],
      "metadata": {
        "colab": {
          "base_uri": "https://localhost:8080/"
        },
        "id": "BtgpcGVnNT2u",
        "outputId": "d04606f9-1d2f-4f99-f3bc-daa43bc179fd"
      },
      "execution_count": 14,
      "outputs": [
        {
          "output_type": "stream",
          "name": "stdout",
          "text": [
            "Nilai terdekat (Binary Search): 4\n"
          ]
        }
      ]
    },
    {
      "cell_type": "code",
      "source": [
        "def f(x):\n",
        "    return x**2 - 2  # Fungsi f(x) = x^2 - 2\n",
        "\n",
        "def fixed_point_iteration(func, initial_guess, tolerance=1e-7, max_iterations=100):\n",
        "    x_n = initial_guess\n",
        "    for i in range(max_iterations):\n",
        "        x_next = func(x_n)\n",
        "\n",
        "        # Cek apakah kita sudah mendekati fixed point\n",
        "        if abs(x_next - x_n) < tolerance:\n",
        "            return x_next\n",
        "\n",
        "        x_n = x_next\n",
        "\n",
        "    return None  # Jika tidak ditemukan dalam jumlah iterasi maksimum\n",
        "\n",
        "# Contoh penggunaan\n",
        "initial_guess = 1.0  # Tebakan awal\n",
        "fixed_point = fixed_point_iteration(f, initial_guess)\n",
        "\n",
        "if fixed_point is not None:\n",
        "    print(\"Fixed Point:\", fixed_point)\n",
        "else:\n",
        "    print(\"Fixed Point tidak ditemukan dalam jumlah iterasi maksimum.\")\n"
      ],
      "metadata": {
        "colab": {
          "base_uri": "https://localhost:8080/"
        },
        "id": "FTuTCSbCNcRa",
        "outputId": "d024bab1-8333-4671-b618-08d421925230"
      },
      "execution_count": 15,
      "outputs": [
        {
          "output_type": "stream",
          "name": "stdout",
          "text": [
            "Fixed Point: -1.0\n"
          ]
        }
      ]
    }
  ]
}