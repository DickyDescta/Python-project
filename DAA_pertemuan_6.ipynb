{
  "nbformat": 4,
  "nbformat_minor": 0,
  "metadata": {
    "colab": {
      "provenance": [],
      "authorship_tag": "ABX9TyNlJHrHV5++Ghh+q3VMnbNl",
      "include_colab_link": true
    },
    "kernelspec": {
      "name": "python3",
      "display_name": "Python 3"
    },
    "language_info": {
      "name": "python"
    }
  },
  "cells": [
    {
      "cell_type": "markdown",
      "metadata": {
        "id": "view-in-github",
        "colab_type": "text"
      },
      "source": [
        "<a href=\"https://colab.research.google.com/github/DickyDescta/Python-project/blob/main/DAA_pertemuan_6.ipynb\" target=\"_parent\"><img src=\"https://colab.research.google.com/assets/colab-badge.svg\" alt=\"Open In Colab\"/></a>"
      ]
    },
    {
      "cell_type": "code",
      "execution_count": null,
      "metadata": {
        "colab": {
          "base_uri": "https://localhost:8080/"
        },
        "id": "CAO4zbZ-Ff0d",
        "outputId": "b4bd8f4f-fced-4b9c-d59f-1bf88f7e54d3"
      },
      "outputs": [
        {
          "output_type": "stream",
          "name": "stdout",
          "text": [
            "Fibonacci sequence:\n",
            "0\n",
            "1\n",
            "1\n",
            "2\n",
            "3\n",
            "5\n",
            "8\n",
            "13\n",
            "21\n",
            "34\n",
            "55\n",
            "89\n",
            "144\n",
            "233\n",
            "377\n",
            "610\n",
            "987\n",
            "1597\n",
            "2584\n",
            "4181\n"
          ]
        }
      ],
      "source": [
        "def recur_fibo(n):\n",
        "    if n <= 1:\n",
        "        return n\n",
        "    else:\n",
        "        return recur_fibo(n - 1) + recur_fibo(n - 2)\n",
        "\n",
        "nterms = 20\n",
        "if nterms <= 0:\n",
        "    print(\"Please enter a positive integer\")\n",
        "else:\n",
        "    print(\"Fibonacci sequence:\")\n",
        "    for i in range(nterms):\n",
        "        print(recur_fibo(i))\n"
      ]
    },
    {
      "cell_type": "code",
      "source": [
        "def recur_fibo(n):\n",
        "    if n <= 1:\n",
        "        return n\n",
        "    else:\n",
        "        return recur_fibo(n - 1) + recur_fibo(n - 2)\n",
        "\n",
        "# Input jumlah suku dari pengguna\n",
        "try:\n",
        "    nterms = int(input(\"Masukkan jumlah suku Fibonacci yang diinginkan: \"))\n",
        "\n",
        "    if nterms <= 0:\n",
        "        print(\"Silakan masukkan bilangan bulat positif.\")\n",
        "    else:\n",
        "        print(f\"Urutan Fibonacci {nterms} suku:\")\n",
        "        for i in range(nterms):\n",
        "            print(recur_fibo(i))\n",
        "except ValueError:\n",
        "    print(\"Input tidak valid. Harap masukkan bilangan bulat.\")\n"
      ],
      "metadata": {
        "colab": {
          "base_uri": "https://localhost:8080/"
        },
        "id": "HqqGjWcGGafP",
        "outputId": "b584f743-8560-4a75-c847-995c5d427368"
      },
      "execution_count": null,
      "outputs": [
        {
          "output_type": "stream",
          "name": "stdout",
          "text": [
            "Masukkan jumlah suku Fibonacci yang diinginkan: 30\n",
            "Urutan Fibonacci 30 suku:\n",
            "0\n",
            "1\n",
            "1\n",
            "2\n",
            "3\n",
            "5\n",
            "8\n",
            "13\n",
            "21\n",
            "34\n",
            "55\n",
            "89\n",
            "144\n",
            "233\n",
            "377\n",
            "610\n",
            "987\n",
            "1597\n",
            "2584\n",
            "4181\n",
            "6765\n",
            "10946\n",
            "17711\n",
            "28657\n",
            "46368\n",
            "75025\n",
            "121393\n",
            "196418\n",
            "317811\n",
            "514229\n"
          ]
        }
      ]
    },
    {
      "cell_type": "code",
      "source": [
        "# Daftar not dan frekuensinya\n",
        "not_frequencies = {\n",
        "    \"B1\": 1,\n",
        "    \"C6\": 6,\n",
        "    \"A5\": 5,\n",
        "    \"D3\": 3\n",
        "}\n",
        "\n",
        "# Menyusun node berdasarkan frekuensi\n",
        "nodes = sorted(not_frequencies.items(), key=lambda x: x[1])\n",
        "\n",
        "# Menampilkan hasil\n",
        "print(\"Node berdasarkan frekuensi:\")\n",
        "for not_name, frekuensi in nodes:\n",
        "    print(f\"Not: {not_name}, Frekuensi: {frekuensi}\")\n"
      ],
      "metadata": {
        "colab": {
          "base_uri": "https://localhost:8080/"
        },
        "id": "srl4tOFQJBqG",
        "outputId": "33c70240-2d69-4c67-ee7c-a123f492740e"
      },
      "execution_count": null,
      "outputs": [
        {
          "output_type": "stream",
          "name": "stdout",
          "text": [
            "Node berdasarkan frekuensi:\n",
            "Not: B1, Frekuensi: 1\n",
            "Not: D3, Frekuensi: 3\n",
            "Not: A5, Frekuensi: 5\n",
            "Not: C6, Frekuensi: 6\n"
          ]
        }
      ]
    },
    {
      "cell_type": "code",
      "source": [
        "import heapq\n",
        "\n",
        "# Daftar karakter dan frekuensinya\n",
        "char_frequencies = {\n",
        "    'a': 5,\n",
        "    'b': 9,\n",
        "    'c': 12,\n",
        "    'd': 13,\n",
        "    'e': 16,\n",
        "    'f': 45\n",
        "}\n",
        "\n",
        "# Node untuk pohon Huffman\n",
        "class Node:\n",
        "    def __init__(self, char, freq):\n",
        "        self.char = char\n",
        "        self.freq = freq\n",
        "        self.left = None\n",
        "        self.right = None\n",
        "\n",
        "    def __lt__(self, other):\n",
        "        return self.freq < other.freq\n",
        "\n",
        "# Fungsi untuk membangun pohon Huffman\n",
        "def build_huffman_tree(frequencies):\n",
        "    heap = [Node(char, freq) for char, freq in frequencies.items()]\n",
        "    heapq.heapify(heap)\n",
        "\n",
        "    while len(heap) > 1:\n",
        "        # Ambil dua node dengan frekuensi terendah\n",
        "        left = heapq.heappop(heap)\n",
        "        right = heapq.heappop(heap)\n",
        "\n",
        "        # Buat node baru dengan frekuensi gabungan\n",
        "        merged = Node(None, left.freq + right.freq)\n",
        "        merged.left = left\n",
        "        merged.right = right\n",
        "\n",
        "        # Masukkan kembali ke heap\n",
        "        heapq.heappush(heap, merged)\n",
        "\n",
        "    return heap[0]  # Kembalikan akar pohon\n",
        "\n",
        "# Fungsi untuk menghasilkan kode Huffman\n",
        "def generate_huffman_codes(node, prefix='', codebook={}):\n",
        "    if node is not None:\n",
        "        if node.char is not None:  # Jika node adalah daun\n",
        "            codebook[node.char] = prefix\n",
        "        generate_huffman_codes(node.left, prefix + '0', codebook)\n",
        "        generate_huffman_codes(node.right, prefix + '1', codebook)\n",
        "    return codebook\n",
        "\n",
        "# Membangun pohon Huffman\n",
        "huffman_tree_root = build_huffman_tree(char_frequencies)\n",
        "\n",
        "# Menghasilkan kode Huffman\n",
        "huffman_codes = generate_huffman_codes(huffman_tree_root)\n",
        "\n",
        "# Menampilkan hasil\n",
        "print(\"Karakter dan Kode Huffman:\")\n",
        "for char, code in huffman_codes.items():\n",
        "    print(f\"Karakter: {char}, Kode Huffman: {code}\")\n"
      ],
      "metadata": {
        "colab": {
          "base_uri": "https://localhost:8080/"
        },
        "id": "oU6ZS-CxJhy3",
        "outputId": "0417c8cb-19ef-47a0-d7bc-ef40c0542370"
      },
      "execution_count": null,
      "outputs": [
        {
          "output_type": "stream",
          "name": "stdout",
          "text": [
            "Karakter dan Kode Huffman:\n",
            "Karakter: f, Kode Huffman: 0\n",
            "Karakter: c, Kode Huffman: 100\n",
            "Karakter: d, Kode Huffman: 101\n",
            "Karakter: a, Kode Huffman: 1100\n",
            "Karakter: b, Kode Huffman: 1101\n",
            "Karakter: e, Kode Huffman: 111\n"
          ]
        }
      ]
    },
    {
      "cell_type": "code",
      "source": [
        "import time\n",
        "import matplotlib.pyplot as plt\n",
        "\n",
        "# Fungsi untuk menghitung jarak total dari tur\n",
        "def total_distance(tour):\n",
        "    return sum(abs(tour[i] - tour[i-1]) for i in range(1, len(tour)))\n",
        "\n",
        "# Fungsi untuk memplot tur\n",
        "def plot_tour(algorithm, cities):\n",
        "    \"Apply a TSP algorithm to cities, and plot the resulting tour.\"\n",
        "\n",
        "    # Menghitung waktu eksekusi dan hasilkan tur\n",
        "    t0 = time.time()\n",
        "    tour = algorithm(cities)\n",
        "    t1 = time.time()\n",
        "\n",
        "    # Plot tur: Menutup tur dengan menghubungkan kembali ke titik awal\n",
        "    plotline(list(tour) + [tour[0]])\n",
        "    plotline([tour[0]], 'rs')  # 'rs' untuk menandai titik awal dengan warna merah\n",
        "    plt.show()\n",
        "\n",
        "    # Mencetak informasi tur\n",
        "    print(\"{} city tour; total distance = {:.1f}; time = {:.3f} secs for {}\".format(\n",
        "        len(tour), total_distance(tour), t1 - t0, algorithm.__name__))\n",
        "\n",
        "# Fungsi untuk memplot garis\n",
        "def plotline(points, style='bo-'):\n",
        "    \"Plot a list of points (complex numbers) in the 2-D plane.\"\n",
        "    x, y = XY(points)\n",
        "    plt.plot(x, y, style)\n",
        "\n",
        "# Fungsi untuk mengonversi daftar kota menjadi koordinat X dan Y\n",
        "def XY(points):\n",
        "    \"Given a list of points, return two lists: X coordinates, and Y coordinates.\"\n",
        "    return [p.real for p in points], [p.imag for p in points]\n",
        "\n",
        "# Dummy TSP algorithm sebagai contoh\n",
        "def dummy_TSP(cities):\n",
        "    return cities  # Misalkan algoritma hanya mengembalikan kota-kota apa adanya\n",
        "\n",
        "# Contoh penggunaan\n",
        "cities8 = [complex(5, 5), complex(3, 4.5),complex(2.5, 3.5),complex(1, 3.5), complex(1.5, 0.5), complex(4, 1), complex(6.5, 4), complex(6, 4)]\n",
        "plot_tour(dummy_TSP, cities8)\n"
      ],
      "metadata": {
        "colab": {
          "base_uri": "https://localhost:8080/",
          "height": 447
        },
        "id": "hY2zKT8UYQ8p",
        "outputId": "8a6c804a-2474-41fa-ea53-2b3dbedea675"
      },
      "execution_count": null,
      "outputs": [
        {
          "output_type": "display_data",
          "data": {
            "text/plain": [
              "<Figure size 640x480 with 1 Axes>"
            ],
            "image/png": "[encoded data removed]"
          },
          "metadata": {}
        },
        {
          "output_type": "stream",
          "name": "stdout",
          "text": [
            "8 city tour; total distance = 14.7; time = 0.000 secs for dummy_TSP\n"
          ]
        }
      ]
    },
    {
      "cell_type": "code",
      "source": [
        "import time\n",
        "import matplotlib.pyplot as plt\n",
        "\n",
        "# Fungsi untuk menghitung jarak total dari tur\n",
        "def total_distance(tour):\n",
        "    return sum(abs(tour[i] - tour[i-1]) for i in range(1, len(tour)))\n",
        "\n",
        "# Fungsi untuk memplot tur\n",
        "def plot_tour(algorithm, cities):\n",
        "    \"Apply a TSP algorithm to cities, and plot the resulting tour.\"\n",
        "\n",
        "    # Menghitung waktu eksekusi dan hasilkan tur\n",
        "    t0 = time.time()\n",
        "    tour = algorithm(cities)\n",
        "    t1 = time.time()\n",
        "\n",
        "    # Plot tur: Menutup tur dengan menghubungkan kembali ke titik awal\n",
        "    plotline(list(tour) + [tour[0]])\n",
        "    plotline([tour[0]], 'rs')  # 'rs' untuk menandai titik awal dengan warna merah\n",
        "    plt.show()\n",
        "\n",
        "    # Mencetak informasi tur\n",
        "    print(\"{} city tour; total distance = {:.1f}; time = {:.3f} secs for {}\".format(\n",
        "        len(tour), total_distance(tour), t1 - t0, algorithm.__name__))\n",
        "\n",
        "# Fungsi untuk memplot garis\n",
        "def plotline(points, style='bo-'):\n",
        "    \"Plot a list of points (complex numbers) in the 2-D plane.\"\n",
        "    x, y = XY(points)\n",
        "    plt.plot(x, y, style)\n",
        "\n",
        "# Fungsi untuk mengonversi daftar kota menjadi koordinat X dan Y\n",
        "def XY(points):\n",
        "    \"Given a list of points, return two lists: X coordinates, and Y coordinates.\"\n",
        "    return [p.real for p in points], [p.imag for p in points]\n",
        "\n",
        "# Dummy TSP algorithm sebagai contoh\n",
        "def dummy_TSP(cities):\n",
        "    return cities  # Misalkan algoritma hanya mengembalikan kota-kota apa adanya\n",
        "\n",
        "# Contoh penggunaan\n",
        "cities8 = [complex(5, 6), complex(2.5, 4.5),complex(1, 3), complex(3, 2.5), complex(4.5, 3), complex(4, 0.5), complex(5, 1), complex(6, 0.8), complex(5.5, 4), complex(6, 5.5)]\n",
        "plot_tour(dummy_TSP, cities8)\n"
      ],
      "metadata": {
        "colab": {
          "base_uri": "https://localhost:8080/",
          "height": 447
        },
        "id": "HAj--Dazfrxe",
        "outputId": "6a14ba29-4ec4-4c74-9c32-9c2b8aedbd20"
      },
      "execution_count": null,
      "outputs": [
        {
          "output_type": "display_data",
          "data": {
            "text/plain": [
              "<Figure size 640x480 with 1 Axes>"
            ],
            "image/png": "[encoded data removed]"
          },
          "metadata": {}
        },
        {
          "output_type": "stream",
          "name": "stdout",
          "text": [
            "10 city tour; total distance = 18.2; time = 0.000 secs for dummy_TSP\n"
          ]
        }
      ]
    },
    {
      "cell_type": "code",
      "source": [
        "import random\n",
        "import matplotlib.pyplot as plt\n",
        "\n",
        "# Fungsi untuk menghitung jarak total dari tur\n",
        "def total_distance(tour):\n",
        "    return sum(abs(tour[i] - tour[i-1]) for i in range(1, len(tour)))\n",
        "\n",
        "# Fungsi untuk memplot tur\n",
        "def plot_tour(algorithm, cities):\n",
        "    \"Apply a TSP algorithm to cities, and plot the resulting tour.\"\n",
        "\n",
        "    # Menghitung waktu eksekusi dan hasilkan tur\n",
        "    t0 = time.time()\n",
        "    tour = algorithm(cities)\n",
        "    t1 = time.time()\n",
        "\n",
        "    # Plot tur: Menutup tur dengan menghubungkan kembali ke titik awal\n",
        "    plotline(list(tour) + [tour[0]], 'bo-', 'blue')  # Gaya garis biru\n",
        "    plotline([tour[0]], 'rs')  # Menandai titik awal dengan warna merah\n",
        "\n",
        "    plt.title(f\"Tour using {algorithm.__name__}\")\n",
        "    plt.grid(True)\n",
        "    plt.xlabel('X Coordinate')\n",
        "    plt.ylabel('Y Coordinate')\n",
        "    plt.show()\n",
        "\n",
        "    # Mencetak informasi tur\n",
        "    print(\"{} city tour; total distance = {:.1f}; time = {:.3f} secs for {}\".format(\n",
        "        len(tour), total_distance(tour), t1 - t0, algorithm.__name__))\n",
        "\n",
        "# Fungsi untuk memplot garis\n",
        "def plotline(points, style='bo-', line_color='blue'):\n",
        "    \"Plot a list of points (complex numbers) in the 2-D plane.\"\n",
        "    x, y = XY(points)\n",
        "    plt.plot(x, y, style, color=line_color)  # Menghubungkan titik dengan garis biru\n",
        "\n",
        "# Fungsi untuk mengonversi daftar kota menjadi koordinat X dan Y\n",
        "def XY(points):\n",
        "    \"Given a list of points, return two lists: X coordinates, and Y coordinates.\"\n",
        "    return [p.real for p in points], [p.imag for p in points]\n",
        "\n",
        "# Dummy TSP algorithm sebagai contoh\n",
        "def dummy_TSP(cities):\n",
        "    return cities  # Misalkan algoritma hanya mengembalikan kota-kota apa adanya\n",
        "\n",
        "# Fungsi untuk membuat kota-kota\n",
        "def Cities(n):\n",
        "    return [complex(random.randrange(100, 800), random.randrange(100, 500)) for i in range(n)]\n",
        "\n",
        "# Contoh penggunaan\n",
        "cities = Cities(9)\n",
        "plot_tour(dummy_TSP, cities)\n"
      ],
      "metadata": {
        "colab": {
          "base_uri": "https://localhost:8080/",
          "height": 579
        },
        "id": "Gg7RhJ2dhXfn",
        "outputId": "511db9c8-4945-46ad-ea05-7f84727d3cbf"
      },
      "execution_count": 3,
      "outputs": [
        {
          "output_type": "stream",
          "name": "stderr",
          "text": [
            "<ipython-input-3-8bd6b6fe07b2>:35: UserWarning: color is redundantly defined by the 'color' keyword argument and the fmt string \"bo-\" (-> color='b'). The keyword argument will take precedence.\n",
            "  plt.plot(x, y, style, color=line_color)  # Menghubungkan titik dengan garis biru\n",
            "<ipython-input-3-8bd6b6fe07b2>:35: UserWarning: color is redundantly defined by the 'color' keyword argument and the fmt string \"rs\" (-> color='r'). The keyword argument will take precedence.\n",
            "  plt.plot(x, y, style, color=line_color)  # Menghubungkan titik dengan garis biru\n"
          ]
        },
        {
          "output_type": "display_data",
          "data": {
            "text/plain": [
              "<Figure size 640x480 with 1 Axes>"
            ],
            "image/png": "[encoded data removed]"
          },
          "metadata": {}
        },
        {
          "output_type": "stream",
          "name": "stdout",
          "text": [
            "9 city tour; total distance = 2278.7; time = 0.000 secs for dummy_TSP\n"
          ]
        }
      ]
    },
    {
      "cell_type": "code",
      "source": [
        "# A Huffman Tree Node\n",
        "import heapq\n",
        "\n",
        "class node:\n",
        "    def __init__(self, freq, symbol, left=None, right=None):\n",
        "        # Frequency of symbol\n",
        "        self.freq = freq\n",
        "\n",
        "        # Symbol name (character)\n",
        "        self.symbol = symbol\n",
        "\n",
        "        # Node left of current node\n",
        "        self.left = left\n",
        "\n",
        "        # Node right of current node\n",
        "        self.right = right\n",
        "\n",
        "        # Tree direction (0/1)\n",
        "        self.huff = ''\n",
        "\n",
        "    # Defining the comparison operator for heapq\n",
        "    def __lt__(self, nxt):\n",
        "        return self.freq < nxt.freq\n",
        "\n",
        "# Utility function to print Huffman codes for all symbols in the newly created Huffman tree\n",
        "def printNodes(node, val=''):\n",
        "    # Huffman code for current node\n",
        "    newVal = val + str(node.huff)\n",
        "\n",
        "    # If node is not an edge node, traverse inside it\n",
        "    if(node.left):\n",
        "        printNodes(node.left, newVal)\n",
        "    if(node.right):\n",
        "        printNodes(node.right, newVal)\n",
        "\n",
        "    # If node is edge node then display its Huffman code\n",
        "    if(not node.left and not node.right):\n",
        "        print(f\"{node.symbol} -> {newVal}\")\n",
        "\n",
        "# Characters for Huffman tree\n",
        "chars = ['a', 'b', 'c', 'd', 'e', 'f']\n",
        "\n",
        "# Frequency of characters\n",
        "freq = [5, 9, 12, 13, 16, 45]\n",
        "\n",
        "# List containing unused nodes\n",
        "nodes = []\n",
        "\n",
        "# Converting characters and frequencies into Huffman tree nodes\n",
        "for x in range(len(chars)):\n",
        "    heapq.heappush(nodes, node(freq[x], chars[x]))\n",
        "\n",
        "# While there are more than one node in the heap\n",
        "while len(nodes) > 1:\n",
        "    # Sort all the nodes in ascending order based on their frequency\n",
        "    left = heapq.heappop(nodes)\n",
        "    right = heapq.heappop(nodes)\n",
        "\n",
        "    # Assign directional value to these nodes\n",
        "    left.huff = 0\n",
        "    right.huff = 1\n",
        "\n",
        "    # Combine the 2 smallest nodes to create a new node as their parent\n",
        "    newNode = node(left.freq + right.freq, left.symbol + right.symbol, left, right)\n",
        "\n",
        "    heapq.heappush(nodes, newNode)\n",
        "\n",
        "# Huffman Tree is ready!\n",
        "printNodes(nodes[0])\n"
      ],
      "metadata": {
        "colab": {
          "base_uri": "https://localhost:8080/"
        },
        "id": "iCA5hGIaN0Sb",
        "outputId": "f75ab9b7-e376-4004-c0ac-aa05aaf5c457"
      },
      "execution_count": 1,
      "outputs": [
        {
          "output_type": "stream",
          "name": "stdout",
          "text": [
            "f -> 0\n",
            "c -> 100\n",
            "d -> 101\n",
            "a -> 1100\n",
            "b -> 1101\n",
            "e -> 111\n"
          ]
        }
      ]
    }
  ]
}