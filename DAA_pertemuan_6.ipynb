{
  "nbformat": 4,
  "nbformat_minor": 0,
  "metadata": {
    "colab": {
      "provenance": [],
      "authorship_tag": "ABX9TyN6mAIRduQCfGUWC3IKwYoc",
      "include_colab_link": true
    },
    "kernelspec": {
      "name": "python3",
      "display_name": "Python 3"
    },
    "language_info": {
      "name": "python"
    }
  },
  "cells": [
    {
      "cell_type": "markdown",
      "metadata": {
        "id": "view-in-github",
        "colab_type": "text"
      },
      "source": [
        "<a href=\"https://colab.research.google.com/github/DickyDescta/Python-project/blob/main/DAA_pertemuan_6.ipynb\" target=\"_parent\"><img src=\"https://colab.research.google.com/assets/colab-badge.svg\" alt=\"Open In Colab\"/></a>"
      ]
    },
    {
      "cell_type": "code",
      "execution_count": 2,
      "metadata": {
        "colab": {
          "base_uri": "https://localhost:8080/"
        },
        "id": "CAO4zbZ-Ff0d",
        "outputId": "b4bd8f4f-fced-4b9c-d59f-1bf88f7e54d3"
      },
      "outputs": [
        {
          "output_type": "stream",
          "name": "stdout",
          "text": [
            "Fibonacci sequence:\n",
            "0\n",
            "1\n",
            "1\n",
            "2\n",
            "3\n",
            "5\n",
            "8\n",
            "13\n",
            "21\n",
            "34\n",
            "55\n",
            "89\n",
            "144\n",
            "233\n",
            "377\n",
            "610\n",
            "987\n",
            "1597\n",
            "2584\n",
            "4181\n"
          ]
        }
      ],
      "source": [
        "def recur_fibo(n):\n",
        "    if n <= 1:\n",
        "        return n\n",
        "    else:\n",
        "        return recur_fibo(n - 1) + recur_fibo(n - 2)\n",
        "\n",
        "nterms = 20\n",
        "if nterms <= 0:\n",
        "    print(\"Please enter a positive integer\")\n",
        "else:\n",
        "    print(\"Fibonacci sequence:\")\n",
        "    for i in range(nterms):\n",
        "        print(recur_fibo(i))\n"
      ]
    },
    {
      "cell_type": "code",
      "source": [
        "def recur_fibo(n):\n",
        "    if n <= 1:\n",
        "        return n\n",
        "    else:\n",
        "        return recur_fibo(n - 1) + recur_fibo(n - 2)\n",
        "\n",
        "# Input jumlah suku dari pengguna\n",
        "try:\n",
        "    nterms = int(input(\"Masukkan jumlah suku Fibonacci yang diinginkan: \"))\n",
        "\n",
        "    if nterms <= 0:\n",
        "        print(\"Silakan masukkan bilangan bulat positif.\")\n",
        "    else:\n",
        "        print(f\"Urutan Fibonacci {nterms} suku:\")\n",
        "        for i in range(nterms):\n",
        "            print(recur_fibo(i))\n",
        "except ValueError:\n",
        "    print(\"Input tidak valid. Harap masukkan bilangan bulat.\")\n"
      ],
      "metadata": {
        "colab": {
          "base_uri": "https://localhost:8080/"
        },
        "id": "HqqGjWcGGafP",
        "outputId": "b584f743-8560-4a75-c847-995c5d427368"
      },
      "execution_count": 3,
      "outputs": [
        {
          "output_type": "stream",
          "name": "stdout",
          "text": [
            "Masukkan jumlah suku Fibonacci yang diinginkan: 30\n",
            "Urutan Fibonacci 30 suku:\n",
            "0\n",
            "1\n",
            "1\n",
            "2\n",
            "3\n",
            "5\n",
            "8\n",
            "13\n",
            "21\n",
            "34\n",
            "55\n",
            "89\n",
            "144\n",
            "233\n",
            "377\n",
            "610\n",
            "987\n",
            "1597\n",
            "2584\n",
            "4181\n",
            "6765\n",
            "10946\n",
            "17711\n",
            "28657\n",
            "46368\n",
            "75025\n",
            "121393\n",
            "196418\n",
            "317811\n",
            "514229\n"
          ]
        }
      ]
    },
    {
      "cell_type": "code",
      "source": [
        "# Daftar not dan frekuensinya\n",
        "not_frequencies = {\n",
        "    \"B1\": 1,\n",
        "    \"C6\": 6,\n",
        "    \"A5\": 5,\n",
        "    \"D3\": 3\n",
        "}\n",
        "\n",
        "# Menyusun node berdasarkan frekuensi\n",
        "nodes = sorted(not_frequencies.items(), key=lambda x: x[1])\n",
        "\n",
        "# Menampilkan hasil\n",
        "print(\"Node berdasarkan frekuensi:\")\n",
        "for not_name, frekuensi in nodes:\n",
        "    print(f\"Not: {not_name}, Frekuensi: {frekuensi}\")\n"
      ],
      "metadata": {
        "colab": {
          "base_uri": "https://localhost:8080/"
        },
        "id": "srl4tOFQJBqG",
        "outputId": "33c70240-2d69-4c67-ee7c-a123f492740e"
      },
      "execution_count": 4,
      "outputs": [
        {
          "output_type": "stream",
          "name": "stdout",
          "text": [
            "Node berdasarkan frekuensi:\n",
            "Not: B1, Frekuensi: 1\n",
            "Not: D3, Frekuensi: 3\n",
            "Not: A5, Frekuensi: 5\n",
            "Not: C6, Frekuensi: 6\n"
          ]
        }
      ]
    },
    {
      "cell_type": "code",
      "source": [
        "import heapq\n",
        "\n",
        "# Daftar karakter dan frekuensinya\n",
        "char_frequencies = {\n",
        "    'a': 5,\n",
        "    'b': 9,\n",
        "    'c': 12,\n",
        "    'd': 13,\n",
        "    'e': 16,\n",
        "    'f': 45\n",
        "}\n",
        "\n",
        "# Node untuk pohon Huffman\n",
        "class Node:\n",
        "    def __init__(self, char, freq):\n",
        "        self.char = char\n",
        "        self.freq = freq\n",
        "        self.left = None\n",
        "        self.right = None\n",
        "\n",
        "    def __lt__(self, other):\n",
        "        return self.freq < other.freq\n",
        "\n",
        "# Fungsi untuk membangun pohon Huffman\n",
        "def build_huffman_tree(frequencies):\n",
        "    heap = [Node(char, freq) for char, freq in frequencies.items()]\n",
        "    heapq.heapify(heap)\n",
        "\n",
        "    while len(heap) > 1:\n",
        "        # Ambil dua node dengan frekuensi terendah\n",
        "        left = heapq.heappop(heap)\n",
        "        right = heapq.heappop(heap)\n",
        "\n",
        "        # Buat node baru dengan frekuensi gabungan\n",
        "        merged = Node(None, left.freq + right.freq)\n",
        "        merged.left = left\n",
        "        merged.right = right\n",
        "\n",
        "        # Masukkan kembali ke heap\n",
        "        heapq.heappush(heap, merged)\n",
        "\n",
        "    return heap[0]  # Kembalikan akar pohon\n",
        "\n",
        "# Fungsi untuk menghasilkan kode Huffman\n",
        "def generate_huffman_codes(node, prefix='', codebook={}):\n",
        "    if node is not None:\n",
        "        if node.char is not None:  # Jika node adalah daun\n",
        "            codebook[node.char] = prefix\n",
        "        generate_huffman_codes(node.left, prefix + '0', codebook)\n",
        "        generate_huffman_codes(node.right, prefix + '1', codebook)\n",
        "    return codebook\n",
        "\n",
        "# Membangun pohon Huffman\n",
        "huffman_tree_root = build_huffman_tree(char_frequencies)\n",
        "\n",
        "# Menghasilkan kode Huffman\n",
        "huffman_codes = generate_huffman_codes(huffman_tree_root)\n",
        "\n",
        "# Menampilkan hasil\n",
        "print(\"Karakter dan Kode Huffman:\")\n",
        "for char, code in huffman_codes.items():\n",
        "    print(f\"Karakter: {char}, Kode Huffman: {code}\")\n"
      ],
      "metadata": {
        "colab": {
          "base_uri": "https://localhost:8080/"
        },
        "id": "oU6ZS-CxJhy3",
        "outputId": "0417c8cb-19ef-47a0-d7bc-ef40c0542370"
      },
      "execution_count": 7,
      "outputs": [
        {
          "output_type": "stream",
          "name": "stdout",
          "text": [
            "Karakter dan Kode Huffman:\n",
            "Karakter: f, Kode Huffman: 0\n",
            "Karakter: c, Kode Huffman: 100\n",
            "Karakter: d, Kode Huffman: 101\n",
            "Karakter: a, Kode Huffman: 1100\n",
            "Karakter: b, Kode Huffman: 1101\n",
            "Karakter: e, Kode Huffman: 111\n"
          ]
        }
      ]
    },
    {
      "cell_type": "code",
      "source": [
        "import time\n",
        "import matplotlib.pyplot as plt\n",
        "\n",
        "# Fungsi untuk menghitung jarak total dari tur\n",
        "def total_distance(tour):\n",
        "    return sum(abs(tour[i] - tour[i-1]) for i in range(1, len(tour)))\n",
        "\n",
        "# Fungsi untuk memplot tur\n",
        "def plot_tour(algorithm, cities):\n",
        "    \"Apply a TSP algorithm to cities, and plot the resulting tour.\"\n",
        "\n",
        "    # Menghitung waktu eksekusi dan hasilkan tur\n",
        "    t0 = time.time()\n",
        "    tour = algorithm(cities)\n",
        "    t1 = time.time()\n",
        "\n",
        "    # Plot tur: Menutup tur dengan menghubungkan kembali ke titik awal\n",
        "    plotline(list(tour) + [tour[0]])\n",
        "    plotline([tour[0]], 'rs')  # 'rs' untuk menandai titik awal dengan warna merah\n",
        "    plt.show()\n",
        "\n",
        "    # Mencetak informasi tur\n",
        "    print(\"{} city tour; total distance = {:.1f}; time = {:.3f} secs for {}\".format(\n",
        "        len(tour), total_distance(tour), t1 - t0, algorithm.__name__))\n",
        "\n",
        "# Fungsi untuk memplot garis\n",
        "def plotline(points, style='bo-'):\n",
        "    \"Plot a list of points (complex numbers) in the 2-D plane.\"\n",
        "    x, y = XY(points)\n",
        "    plt.plot(x, y, style)\n",
        "\n",
        "# Fungsi untuk mengonversi daftar kota menjadi koordinat X dan Y\n",
        "def XY(points):\n",
        "    \"Given a list of points, return two lists: X coordinates, and Y coordinates.\"\n",
        "    return [p.real for p in points], [p.imag for p in points]\n",
        "\n",
        "# Dummy TSP algorithm sebagai contoh\n",
        "def dummy_TSP(cities):\n",
        "    return cities  # Misalkan algoritma hanya mengembalikan kota-kota apa adanya\n",
        "\n",
        "# Contoh penggunaan\n",
        "cities8 = [complex(5, 5), complex(3, 4.5),complex(2.5, 3.5),complex(1, 3.5), complex(1.5, 0.5), complex(4, 1), complex(6.5, 4), complex(6, 4)]\n",
        "plot_tour(dummy_TSP, cities8)\n"
      ],
      "metadata": {
        "colab": {
          "base_uri": "https://localhost:8080/",
          "height": 447
        },
        "id": "hY2zKT8UYQ8p",
        "outputId": "8a6c804a-2474-41fa-ea53-2b3dbedea675"
      },
      "execution_count": 53,
      "outputs": [
        {
          "output_type": "display_data",
          "data": {
            "text/plain": [
              "<Figure size 640x480 with 1 Axes>"
            ],
            "image/png": "[encoded data removed]"
          },
          "metadata": {}
        },
        {
          "output_type": "stream",
          "name": "stdout",
          "text": [
            "8 city tour; total distance = 14.7; time = 0.000 secs for dummy_TSP\n"
          ]
        }
      ]
    },
    {
      "cell_type": "code",
      "source": [
        "import time\n",
        "import matplotlib.pyplot as plt\n",
        "\n",
        "# Fungsi untuk menghitung jarak total dari tur\n",
        "def total_distance(tour):\n",
        "    return sum(abs(tour[i] - tour[i-1]) for i in range(1, len(tour)))\n",
        "\n",
        "# Fungsi untuk memplot tur\n",
        "def plot_tour(algorithm, cities):\n",
        "    \"Apply a TSP algorithm to cities, and plot the resulting tour.\"\n",
        "\n",
        "    # Menghitung waktu eksekusi dan hasilkan tur\n",
        "    t0 = time.time()\n",
        "    tour = algorithm(cities)\n",
        "    t1 = time.time()\n",
        "\n",
        "    # Plot tur: Menutup tur dengan menghubungkan kembali ke titik awal\n",
        "    plotline(list(tour) + [tour[0]])\n",
        "    plotline([tour[0]], 'rs')  # 'rs' untuk menandai titik awal dengan warna merah\n",
        "    plt.show()\n",
        "\n",
        "    # Mencetak informasi tur\n",
        "    print(\"{} city tour; total distance = {:.1f}; time = {:.3f} secs for {}\".format(\n",
        "        len(tour), total_distance(tour), t1 - t0, algorithm.__name__))\n",
        "\n",
        "# Fungsi untuk memplot garis\n",
        "def plotline(points, style='bo-'):\n",
        "    \"Plot a list of points (complex numbers) in the 2-D plane.\"\n",
        "    x, y = XY(points)\n",
        "    plt.plot(x, y, style)\n",
        "\n",
        "# Fungsi untuk mengonversi daftar kota menjadi koordinat X dan Y\n",
        "def XY(points):\n",
        "    \"Given a list of points, return two lists: X coordinates, and Y coordinates.\"\n",
        "    return [p.real for p in points], [p.imag for p in points]\n",
        "\n",
        "# Dummy TSP algorithm sebagai contoh\n",
        "def dummy_TSP(cities):\n",
        "    return cities  # Misalkan algoritma hanya mengembalikan kota-kota apa adanya\n",
        "\n",
        "# Contoh penggunaan\n",
        "cities8 = [complex(5, 6), complex(2.5, 4.5),complex(1, 3), complex(3, 2.5), complex(4.5, 3), complex(4, 0.5), complex(5, 1), complex(6, 0.8), complex(5.5, 4), complex(6, 5.5)]\n",
        "plot_tour(dummy_TSP, cities8)\n"
      ],
      "metadata": {
        "colab": {
          "base_uri": "https://localhost:8080/",
          "height": 447
        },
        "id": "HAj--Dazfrxe",
        "outputId": "6a14ba29-4ec4-4c74-9c32-9c2b8aedbd20"
      },
      "execution_count": 65,
      "outputs": [
        {
          "output_type": "display_data",
          "data": {
            "text/plain": [
              "<Figure size 640x480 with 1 Axes>"
            ],
            "image/png": "[encoded data removed]"
          },
          "metadata": {}
        },
        {
          "output_type": "stream",
          "name": "stdout",
          "text": [
            "10 city tour; total distance = 18.2; time = 0.000 secs for dummy_TSP\n"
          ]
        }
      ]
    },
    {
      "cell_type": "code",
      "source": [
        "import random\n",
        "import matplotlib.pyplot as plt\n",
        "\n",
        "# Defining the City class\n",
        "class City:\n",
        "    def __init__(self, x, y):\n",
        "        self.x = x\n",
        "        self.y = y\n",
        "\n",
        "    def __repr__(self):\n",
        "        return f\"City({self.x}, {self.y})\"\n",
        "\n",
        "# Function to create a set of cities\n",
        "def cities(n):\n",
        "    return set(City(random.randrange(10, 890), random.randrange(10, 590)) for c in range(n))\n",
        "\n",
        "# Setting the random seed and generating cities\n",
        "random.seed('seed')\n",
        "cities8 = cities(8)\n",
        "\n",
        "# Extracting x and y coordinates for plotting\n",
        "x_coords = [city.x for city in cities8]\n",
        "y_coords = [city.y for city in cities8]\n",
        "\n",
        "# Plotting the cities on a 2D plane\n",
        "plt.figure(figsize=(8, 6))\n",
        "plt.scatter(x_coords, y_coords, c='blue', marker='o')\n",
        "plt.title('Plot of 8 Random Cities')\n",
        "plt.xlabel('X Coordinate')\n",
        "plt.ylabel('Y Coordinate')\n",
        "plt.grid(True)\n",
        "plt.show()\n"
      ],
      "metadata": {
        "colab": {
          "base_uri": "https://localhost:8080/",
          "height": 564
        },
        "id": "Gg7RhJ2dhXfn",
        "outputId": "9019f97b-30a2-40fd-e2e3-2ea0a2a09482"
      },
      "execution_count": 69,
      "outputs": [
        {
          "output_type": "display_data",
          "data": {
            "text/plain": [
              "<Figure size 800x600 with 1 Axes>"
            ],
            "image/png": "[encoded data removed]"
          },
          "metadata": {}
        }
      ]
    }
  ]
}