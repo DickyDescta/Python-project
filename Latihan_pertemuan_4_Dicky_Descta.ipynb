{
  "nbformat": 4,
  "nbformat_minor": 0,
  "metadata": {
    "colab": {
      "provenance": [],
      "authorship_tag": "ABX9TyMc2YYpHNDpKhbHmbz2ilP+",
      "include_colab_link": true
    },
    "kernelspec": {
      "name": "python3",
      "display_name": "Python 3"
    },
    "language_info": {
      "name": "python"
    }
  },
  "cells": [
    {
      "cell_type": "markdown",
      "metadata": {
        "id": "view-in-github",
        "colab_type": "text"
      },
      "source": [
        "<a href=\"https://colab.research.google.com/github/DickyDescta/Python-project/blob/main/Latihan_pertemuan_4_Dicky_Descta.ipynb\" target=\"_parent\"><img src=\"https://colab.research.google.com/assets/colab-badge.svg\" alt=\"Open In Colab\"/></a>"
      ]
    },
    {
      "cell_type": "code",
      "execution_count": 2,
      "metadata": {
        "colab": {
          "base_uri": "https://localhost:8080/"
        },
        "id": "AlEW49ymIRGx",
        "outputId": "1bac0d53-3a2e-4ff3-e81d-8448e61d422d"
      },
      "outputs": [
        {
          "output_type": "stream",
          "name": "stdout",
          "text": [
            "3 2 1\n"
          ]
        }
      ],
      "source": [
        "#swap function\n",
        "var1 = 1\n",
        "var2 = 2\n",
        "var3 = 3\n",
        "var1,var2,var3 = var3,var2,var1\n",
        "print(var1,var2,var3)"
      ]
    },
    {
      "cell_type": "code",
      "source": [
        "def bubble_sort(list):\n",
        "    n = len(list)\n",
        "    for i in range(n):\n",
        "        for j in range(0, n-i-1):\n",
        "            if list[j] > list[j+1]:\n",
        "                list[j], list[j+1] = list[j+1], list[j]\n",
        "    return list\n",
        "numbers = [100, 20, 60, 90, 40, 30, 10]\n",
        "sorted_numbers = bubble_sort(numbers)\n",
        "print(sorted_numbers)\n"
      ],
      "metadata": {
        "colab": {
          "base_uri": "https://localhost:8080/"
        },
        "id": "Y5D8742DJxBj",
        "outputId": "afa9162f-0940-4dd7-a78b-80c6ed77ed28"
      },
      "execution_count": 10,
      "outputs": [
        {
          "output_type": "stream",
          "name": "stdout",
          "text": [
            "[10, 20, 30, 40, 60, 90, 100]\n"
          ]
        }
      ]
    },
    {
      "cell_type": "code",
      "source": [
        "def BubbleSort(list):\n",
        "    lastElementIndex = len(list) - 1\n",
        "    for passNo in range(lastElementIndex, 0, -1):\n",
        "        for idx in range(passNo):\n",
        "            if list[idx] > list[idx+1]:\n",
        "                list[idx], list[idx+1] = list[idx+1], list[idx]\n",
        "    return list\n",
        "list = [100, 20, 60, 90, 40, 30, 10]\n",
        "BubbleSort(list)\n",
        "print(list)\n"
      ],
      "metadata": {
        "colab": {
          "base_uri": "https://localhost:8080/"
        },
        "id": "h0joCw4TKOxD",
        "outputId": "148a09a9-8347-460b-997d-3d251043c107"
      },
      "execution_count": 4,
      "outputs": [
        {
          "output_type": "stream",
          "name": "stdout",
          "text": [
            "[10, 20, 30, 40, 60, 90, 100]\n"
          ]
        }
      ]
    },
    {
      "cell_type": "code",
      "source": [
        "def insertion_sort(list):\n",
        "  for i in range(1, len(list)):\n",
        "    j = i - 1\n",
        "    next = list[i]\n",
        "    while (list[j] > next) and (j >= 0):\n",
        "      list[j+1] = list[j]\n",
        "      j = j - 1\n",
        "    list[j+1] = next\n",
        "  return list\n",
        "list = [89, 12, 57, 16, 25, 11, 75]\n",
        "print(insertion_sort(list))"
      ],
      "metadata": {
        "colab": {
          "base_uri": "https://localhost:8080/"
        },
        "id": "HEQndkrxK_5K",
        "outputId": "67e14f03-e1f2-402d-8d53-1d03c3564a37"
      },
      "execution_count": 5,
      "outputs": [
        {
          "output_type": "stream",
          "name": "stdout",
          "text": [
            "[11, 12, 16, 25, 57, 75, 89]\n"
          ]
        }
      ]
    },
    {
      "cell_type": "code",
      "source": [
        "def selection_sort(list):\n",
        "    for fill_slot in range(len(list) - 1, 0, -1):\n",
        "        max_index = 0\n",
        "        for location in range(1, fill_slot + 1):\n",
        "            if list[location] > list[max_index]:\n",
        "                max_index = location\n",
        "        list[fill_slot], list[max_index] = list[max_index], list[fill_slot]\n",
        "    return list\n",
        "list = [89, 12, 57, 16, 25]\n",
        "print(selection_sort(list))\n"
      ],
      "metadata": {
        "colab": {
          "base_uri": "https://localhost:8080/"
        },
        "id": "1dnWbuSyL-Su",
        "outputId": "92da5482-4d25-4171-cd5a-5783c1459fa9"
      },
      "execution_count": 9,
      "outputs": [
        {
          "output_type": "stream",
          "name": "stdout",
          "text": [
            "[12, 16, 25, 57, 89]\n"
          ]
        }
      ]
    },
    {
      "cell_type": "code",
      "source": [
        "def linearsearch(list, item):\n",
        "    index = 0\n",
        "    found = False\n",
        "    while index < len(list) and not found:\n",
        "        if list[index] == item:\n",
        "            found = True\n",
        "        else:\n",
        "            index += 1\n",
        "    return found\n",
        "list = ['y', 'u', 'i', 'w', 'o', 'a', 'q', 'u', 'j', 'p']\n",
        "print(linearsearch(list, 'a'))\n"
      ],
      "metadata": {
        "colab": {
          "base_uri": "https://localhost:8080/"
        },
        "id": "mXL8vW5-NeUl",
        "outputId": "7fa0bab7-f7b2-465b-c162-f58e40f71430"
      },
      "execution_count": 12,
      "outputs": [
        {
          "output_type": "stream",
          "name": "stdout",
          "text": [
            "True\n"
          ]
        }
      ]
    },
    {
      "cell_type": "code",
      "source": [
        "def binarysearch(list, item):\n",
        "    first = 0\n",
        "    last = len(list) - 1\n",
        "    found = False\n",
        "    while first <= last and not found:\n",
        "        midpoint = (first + last) // 2\n",
        "        if list[midpoint] == item:\n",
        "            found = True\n",
        "        else:\n",
        "            if item < list[midpoint]:\n",
        "                last = midpoint - 1\n",
        "            else:\n",
        "                first = midpoint + 1\n",
        "    return found\n",
        "list = ['y', 'u', 'i', 'w', 'o', 'a', 'q', 'u', 'j', 'p']\n",
        "list.sort()\n",
        "print(\"Sorted list:\", list)\n",
        "print(binarysearch(list, 'a'))\n"
      ],
      "metadata": {
        "colab": {
          "base_uri": "https://localhost:8080/"
        },
        "id": "ffF3a_dwOTA0",
        "outputId": "88a825fd-a9f7-4cc7-b155-76b3f53e64d4"
      },
      "execution_count": 15,
      "outputs": [
        {
          "output_type": "stream",
          "name": "stdout",
          "text": [
            "Sorted list: ['a', 'i', 'j', 'o', 'p', 'q', 'u', 'u', 'w', 'y']\n",
            "True\n"
          ]
        }
      ]
    },
    {
      "cell_type": "code",
      "source": [
        "def char_interpolation_search(sorted_list, target):\n",
        "    idx0 = 0\n",
        "    idxn = len(sorted_list) - 1\n",
        "\n",
        "    while idx0 <= idxn and target >= sorted_list[idx0] and target <= sorted_list[idxn]:\n",
        "        # Check if the list is not all the same element\n",
        "        if sorted_list[idx0] == sorted_list[idxn]:\n",
        "            if sorted_list[idx0] == target:\n",
        "                return True\n",
        "            else:\n",
        "                return False\n",
        "        pos = idx0 + int(((idxn - idx0) / (ord(sorted_list[idxn]) - ord(sorted_list[idx0]))) * (ord(target) - ord(sorted_list[idx0])))\n",
        "        if sorted_list[pos] == target:\n",
        "            return True\n",
        "        if sorted_list[pos] < target:\n",
        "            idx0 = pos + 1\n",
        "        else:\n",
        "            idxn = pos - 1\n",
        "\n",
        "    return False\n",
        "\n",
        "characters = ['y', 'u', 'i', 'w', 'o', 'a', 'q', 'u', 'j', 'p']\n",
        "sorted_characters = sorted(characters)\n",
        "result = char_interpolation_search(sorted_characters, 'u')\n",
        "print(\"Sorted characters:\", sorted_characters)\n",
        "print(\"Search result for 'u':\", result)\n"
      ],
      "metadata": {
        "colab": {
          "base_uri": "https://localhost:8080/"
        },
        "id": "5lH8eyfbPJeg",
        "outputId": "42d7202f-3741-4766-bec8-056cff38ad09"
      },
      "execution_count": 19,
      "outputs": [
        {
          "output_type": "stream",
          "name": "stdout",
          "text": [
            "Sorted characters: ['a', 'i', 'j', 'o', 'p', 'q', 'u', 'u', 'w', 'y']\n",
            "Search result for 'u': True\n"
          ]
        }
      ]
    }
  ]
}